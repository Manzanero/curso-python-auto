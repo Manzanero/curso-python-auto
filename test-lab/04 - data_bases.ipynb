{
 "cells": [
  {
   "cell_type": "markdown",
   "metadata": {
    "tags": []
   },
   "source": [
    "# Capítulo 4 - Uso de JayDeBeApi para consultar Bases de Datos\n",
    "___\n",
    "## Conexión\n",
    "___\n",
    "Para conectar con una base de datos se puede usar la librería `JayDeBeApi`:"
   ]
  },
  {
   "cell_type": "code",
   "execution_count": null,
   "metadata": {},
   "outputs": [],
   "source": [
    "! pip install JayDeBeApi"
   ]
  },
  {
   "cell_type": "markdown",
   "metadata": {},
   "source": [
    "También hay que asegurarse de que la variable de entorno JAVA_HOME tiene la carpeta donde se ha instalado un jdk de Java\n",
    "1. Descargar e instalar Java jdk 1.11: https://www.oracle.com/java/technologies/javase/jdk11-archive-downloads.html > \"Java SE Development Kit\" > {sistema operativo. Ej.: Windows} > \"x64 installer\"\n",
    "2. Añadir la variable de entorno JAVA_HOME = `C:\\Program Files\\Java\\jdk{version}` (se sustituye `{version}` por la versión instalada. Ej.: `1.11.0_281`)"
   ]
  },
  {
   "cell_type": "markdown",
   "metadata": {},
   "source": [
    "Importamos el módulo y creamos la siguiente clase que nos facilita hacer querys a la BBDD:"
   ]
  },
  {
   "cell_type": "code",
   "execution_count": null,
   "metadata": {},
   "outputs": [],
   "source": [
    "import jaydebeapi\n",
    "\n",
    "class Database(object):\n",
    "\n",
    "    def __init__(self, java_class_name, url, driver_args, jars):\n",
    "        self.jaydebeapi_args = [java_class_name, url, driver_args, jars]\n",
    "\n",
    "    def query(self, sql):\n",
    "        with jaydebeapi.connect(*self.jaydebeapi_args) as connection:\n",
    "            with connection.cursor() as cursor:\n",
    "                cursor.execute(sql)\n",
    "                if cursor.description:\n",
    "                    headers = [x[0] for x in cursor.description]\n",
    "                    rows = cursor.fetchall()\n",
    "                    return [dict(zip(headers, row)) for row in rows]"
   ]
  },
  {
   "cell_type": "markdown",
   "metadata": {},
   "source": [
    "Creamos una base de datos [SQLite3](https://es.wikipedia.org/wiki/SQLite). A diferencia de las bases de datos tipo servidor, este tipo de BBDD guarda todo el contenido en un archivo. La cadena de conexión JDBC es `jdbc:sqlite:{path}` donde \"path\" es la ruta donde se creará dicho archivo (si no existe todavía)"
   ]
  },
  {
   "cell_type": "code",
   "execution_count": null,
   "metadata": {},
   "outputs": [],
   "source": [
    "db = Database(\"org.sqlite.JDBC\", \"jdbc:sqlite:MySQLite.db\", [\"\", \"\"], \"sqlite-jdbc-3.36.0.3.jar\")  # MySQLite.db es la ruta donde se creará la BBDD\n",
    "\n",
    "db.query(\"select 1\")"
   ]
  },
  {
   "cell_type": "markdown",
   "metadata": {},
   "source": [
    "## Operaciones\n",
    "___\n",
    "### Create table"
   ]
  },
  {
   "cell_type": "code",
   "execution_count": null,
   "metadata": {},
   "outputs": [],
   "source": [
    "db.query(\"\"\"\\\n",
    "    CREATE TABLE IF NOT EXISTS tabla1 (\n",
    "        contact_id INTEGER PRIMARY KEY,\n",
    "        first_name TEXT    NOT NULL,\n",
    "        last_name  TEXT,\n",
    "        phone      TEXT    NOT NULL CHECK (length(phone) >= 9)\n",
    "        );\n",
    "    \"\"\")"
   ]
  },
  {
   "cell_type": "markdown",
   "metadata": {},
   "source": [
    "## Insert"
   ]
  },
  {
   "cell_type": "code",
   "execution_count": null,
   "metadata": {},
   "outputs": [],
   "source": [
    "db.query(\"\"\"\\\n",
    "    INSERT INTO tabla1 (first_name, last_name, phone) VALUES('Alejandro', 'Manzanero', '987654321');\n",
    "    \"\"\")\n",
    "\n",
    "db.query(\"\"\"\\\n",
    "    INSERT INTO tabla1 (first_name, last_name, phone)\n",
    "    VALUES('Elon', 'Musk', '987654321');\n",
    "    \"\"\")"
   ]
  },
  {
   "cell_type": "markdown",
   "metadata": {},
   "source": [
    "## Select\n",
    "Cuando la query es de tipo \"select\" la respuesta de `db.query` será una lista de diccionarios, donde las keys equivalen a las columnas de la tabla. En cualquier otro caso la respuesta es `None`"
   ]
  },
  {
   "cell_type": "code",
   "execution_count": null,
   "metadata": {},
   "outputs": [],
   "source": [
    "filas = db.query(\"select * from tabla1\")\n",
    "\n",
    "print('1:', filas)\n",
    "print('2:', filas[0])\n",
    "print('3:', filas[0]['first_name'])"
   ]
  },
  {
   "cell_type": "markdown",
   "metadata": {},
   "source": [
    "## Update"
   ]
  },
  {
   "cell_type": "code",
   "execution_count": null,
   "metadata": {},
   "outputs": [],
   "source": [
    "sql = \"\"\"\\\n",
    "    UPDATE tabla1 SET first_name = 'Alex'\n",
    "    where first_name = 'Alejandro';\n",
    "    \"\"\"\n",
    "\n",
    "assert 'WHERE' in sql.upper()\n",
    "\n",
    "db.query(sql)\n",
    "\n",
    "rows = db.query(\"select * from tabla1\")\n",
    "for row in rows:\n",
    "    print( row )"
   ]
  },
  {
   "cell_type": "markdown",
   "metadata": {},
   "source": [
    "## Delete"
   ]
  },
  {
   "cell_type": "code",
   "execution_count": null,
   "metadata": {},
   "outputs": [],
   "source": [
    "sql = \"\"\"\\\n",
    "    DELETE FROM tabla1\n",
    "    WHERE first_name = 'Elon';\n",
    "    \"\"\"\n",
    "\n",
    "assert 'WHERE' in sql.upper()\n",
    "\n",
    "db.query(sql)\n",
    "\n",
    "rows = db.query(\"select * from tabla1\")\n",
    "for row in rows:\n",
    "    print( row['first_name'] )"
   ]
  },
  {
   "cell_type": "markdown",
   "metadata": {},
   "source": [
    "## Drop Table"
   ]
  },
  {
   "cell_type": "code",
   "execution_count": null,
   "metadata": {},
   "outputs": [],
   "source": [
    "db.query(\"DROP TABLE tabla1\")\n",
    "\n",
    "print(\"deleted tabla1\")\n",
    "\n",
    "try:\n",
    "    db.query(\"DROP TABLE tabla1\")\n",
    "except Exception:\n",
    "    print(\"tabla1 doesn't exist\")\n"
   ]
  },
  {
   "cell_type": "markdown",
   "metadata": {},
   "source": [
    "## Más ejemplos de cadenas de conexión\n",
    "___"
   ]
  },
  {
   "cell_type": "markdown",
   "metadata": {},
   "source": [
    "Cada base de datos tiene su propia `.jar` JDBC y su cadena de conexión, en el ejemplo anterior eran `sqlite-jdbc-3.36.0.3.jar` (clase `org.sqlite.JDBC`) y `jdbc:sqlite:{path}` respectivamente. En internet se pueden encontrar los JDBC de otros tipos de BBDD. Aquí algunos ejemplos:"
   ]
  },
  {
   "cell_type": "markdown",
   "metadata": {},
   "source": [
    "### Microsoft SQL Server\n",
    "[url de descarga](https://docs.microsoft.com/es-es/sql/connect/jdbc/download-microsoft-jdbc-driver-for-sql-server)\n",
    "\n",
    "dentro del zip hay que buscar el `mssql-jdbc-9.4.0.jre{local_java_version}.jar` donde `local_java_version` sería la versión del jdk de java instalada (por ejemplo jdk 1.8 -> `mssql-jdbc-9.4.0.jre8.jar`) y la variable de entorno JAVA_HOME apuntando ahí. El resto de archivos se pueden borrar\n",
    "\n",
    "```python\n",
    "db = Database(\"com.microsoft.sqlserver.jdbc.SQLServerDriver\", \n",
    "              \"jdbc:sqlserver://<server_name>[:portNumber];databaseName=<db_name>\", [\"<user>\", \"<pass>\"], \"mssql-jdbc-9.4.0.jre8.jar\")\n",
    "# si es por instancia\n",
    "db = Database(\"com.microsoft.sqlserver.jdbc.SQLServerDriver\", \n",
    "              \"jdbc:sqlserver://<server_name>[\\instanceName]\", [\"<user>\", \"<pass>\"], \"mssql-jdbc-9.4.0.jre8.jar\")\n",
    "```\n",
    "\n",
    "### Oracle\n",
    "[url de descarga](https://www.oracle.com/es/database/technologies/appdev/jdbc-downloads.html)\n",
    "\n",
    "dentro del zip hay que buscar el `ojdbc6.jar`. El resto de archivos se pueden borrar\n",
    "\n",
    "```python\n",
    "db = Database(\"oracle.jdbc.driver.OracleDriver\", \"jdbc:oracle:thin:@<server>[:<1521>]:<database_name>\", [\"<user>\", \"<pass>\"], \"ojdbc6.jar\") \n",
    "```\n",
    "\n",
    "### Sybase\n",
    "[url de descarga](https://sourceforge.net/projects/jtds/files/latest/download)\n",
    "\n",
    "dentro del zip hay que buscar el `jtds-1.3.1.jar`. El resto de archivos se pueden borrar\n",
    "\n",
    "```python\n",
    "db = Database(\"net.sourceforge.jtds.jdbc.Driver\", \"jdbc:jtds:sybase://<hostname>[:<4100>]/<dbname>\", [\"<user>\", \"<pass>\"], \"jtds-1.3.1.jar\")\n",
    "```"
   ]
  }
 ],
 "metadata": {
  "kernelspec": {
   "display_name": "Python 3",
   "language": "python",
   "name": "python3"
  },
  "language_info": {
   "codemirror_mode": {
    "name": "ipython",
    "version": 3
   },
   "file_extension": ".py",
   "mimetype": "text/x-python",
   "name": "python",
   "nbconvert_exporter": "python",
   "pygments_lexer": "ipython3",
   "version": "3.8.8"
  }
 },
 "nbformat": 4,
 "nbformat_minor": 4
}
