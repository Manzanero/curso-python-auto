{
 "cells": [
  {
   "cell_type": "markdown",
   "metadata": {},
   "source": [
    "# Capítulo 3 - Uso de Requests para consumir APIs\n",
    "___\n",
    "Para consumir servicios API REST (los que devuelven un json) instalamos la libreía `requests`:"
   ]
  },
  {
   "cell_type": "code",
   "execution_count": null,
   "metadata": {},
   "outputs": [],
   "source": [
    "! pip install requests"
   ]
  },
  {
   "cell_type": "markdown",
   "metadata": {},
   "source": [
    "la importamos:"
   ]
  },
  {
   "cell_type": "code",
   "execution_count": null,
   "metadata": {},
   "outputs": [],
   "source": [
    "import requests\n",
    "import json"
   ]
  },
  {
   "cell_type": "markdown",
   "metadata": {},
   "source": [
    "## GET\n",
    "___\n",
    "consumir un servicio REST dada su url:"
   ]
  },
  {
   "cell_type": "code",
   "execution_count": null,
   "metadata": {},
   "outputs": [],
   "source": [
    "url = \"https://aws.random.cat/meow\"\n",
    "response = requests.get(url)\n",
    "\n",
    "print('STATUS:  ', response.status_code)\n",
    "print('RESPONSE:', response.text)  # json\n",
    "\n",
    "data = response.json()  # equivale a: json.loads(response.text)\n",
    "print('DICT:    ', data)\n",
    "\n",
    "url = data['file']\n",
    "print('URL:     ', url)\n",
    "print()\n",
    "\n",
    "\n",
    "from IPython.display import Image  # https://ipython.org/ipython-doc/dev/api/generated/IPython.display.html\n",
    "Image(url, width=300, height=300)"
   ]
  },
  {
   "cell_type": "markdown",
   "metadata": {},
   "source": [
    "\n",
    "hacer un GET pasando parámetros:"
   ]
  },
  {
   "cell_type": "code",
   "execution_count": null,
   "metadata": {},
   "outputs": [],
   "source": [
    "# url = \"https://en.wikipedia.org/w/api.php?format=json&action=query&prop=extracts&exintro=&explaintext=&titles=pizza\"  # Bad\n",
    "# url = \"https://en.wikipedia.org/w/api.php\"                                                                            # Good\n",
    "\n",
    "url = \"https://test.wikipedia.org//w/api.php\"  # mejor usar el entono de pruebas de wikipedia\n",
    "params = {\n",
    "    'format': 'json',\n",
    "    'action': 'query',\n",
    "    'prop': 'extracts',\n",
    "    'exintro': '',\n",
    "    'explaintext': '',\n",
    "    'titles': 'Page550', \n",
    "}\n",
    "\n",
    "response = requests.get(url, params=params)\n",
    "print('1.', response.json())\n",
    "print('2.', response.json()['query'])\n",
    "print('3.', response.json()['query']['pages'])\n",
    "print('4.', response.json()['query']['pages'].values())\n",
    "print('5.', list(response.json()['query']['pages'].values()))\n",
    "print('6.', list(response.json()['query']['pages'].values())[0])\n",
    "print('7.', list(response.json()['query']['pages'].values())[0]['extract'])\n",
    "\n",
    "\n",
    "from IPython.display import JSON  # https://ipython.org/ipython-doc/dev/api/generated/IPython.display.html\n",
    "JSON(response.json())"
   ]
  },
  {
   "cell_type": "markdown",
   "metadata": {},
   "source": [
    "Algunos servicios requieren headers o autorización en la petición:"
   ]
  },
  {
   "cell_type": "code",
   "execution_count": null,
   "metadata": {},
   "outputs": [],
   "source": [
    "url = \"http://dummy.restapiexample.com/api/v1/employees\" \n",
    "headers = {'User-Agent': 'PostmanRuntime/7.28.4'}\n",
    "auth = ('<user>', '<pass>')\n",
    "response = requests.get(url, headers=headers, auth=auth)\n",
    "\n",
    "print(response.text)"
   ]
  },
  {
   "cell_type": "markdown",
   "metadata": {},
   "source": [
    "## POST\n",
    "___"
   ]
  },
  {
   "cell_type": "markdown",
   "metadata": {},
   "source": [
    "Se utiliza POST para enviar un documento (generalmente json) junto con la url:"
   ]
  },
  {
   "cell_type": "code",
   "execution_count": null,
   "metadata": {},
   "outputs": [],
   "source": [
    "url = \"http://dummy.restapiexample.com/api/v1/create\" \n",
    "auth = ('<user>', '<pass>')\n",
    "\n",
    "data = '{\"name\":\"test\",\"salary\":123,\"age\":23}'  # json\n",
    "headers = {'User-Agent': 'PostmanRuntime/7.28.4',\n",
    "           'Content-Type': 'application/json'}\n",
    "response = requests.post(url, headers=headers, auth=auth, data=data)\n",
    "\n",
    "print('STATUS:  ', response.status_code)\n",
    "print('RESPONSE:', response.text)\n",
    "\n",
    "# \n",
    "data = {'name': 'test', 'salary': 123, 'age': 23}  # dict\n",
    "headers = {'User-Agent': 'PostmanRuntime/7.28.4'}\n",
    "response = requests.post(url, headers=headers, auth=auth, json=data)\n",
    "\n",
    "print('STATUS:  ', response.status_code)\n",
    "print('RESPONSE:', response.text)"
   ]
  },
  {
   "cell_type": "markdown",
   "metadata": {},
   "source": [
    "Algunos servicios requieren headers o autorización en la llamada:"
   ]
  },
  {
   "cell_type": "markdown",
   "metadata": {},
   "source": [
    "## API SOAP\n",
    "___\n",
    "Para consumir servicios API SOAP (los que devuelven un xml) instalamos la libreía `zeep`:"
   ]
  },
  {
   "cell_type": "code",
   "execution_count": null,
   "metadata": {},
   "outputs": [],
   "source": [
    "! pip install zeep"
   ]
  },
  {
   "cell_type": "markdown",
   "metadata": {},
   "source": [
    "examinar un endpoint:"
   ]
  },
  {
   "cell_type": "code",
   "execution_count": null,
   "metadata": {},
   "outputs": [],
   "source": [
    "! python -mzeep http://www.dneonline.com/calculator.asmx?wsdl"
   ]
  },
  {
   "cell_type": "code",
   "execution_count": null,
   "metadata": {},
   "outputs": [],
   "source": [
    "from zeep import Client\n",
    "\n",
    "client = Client('http://www.dneonline.com/calculator.asmx?wsdl')\n",
    "result = client.service.Add(2, 1)  # 2 + 1\n",
    "print('1:', result)\n",
    "\n",
    "result = client.service.Subtract(intA=2, intB=1)  # 2 - 1\n",
    "print('2:', result)\n",
    "\n",
    "result = client.service['Multiply'](intA=2, intB=1)  # 2 * 1\n",
    "print('3:', result)"
   ]
  },
  {
   "cell_type": "markdown",
   "metadata": {},
   "source": [
    "si quiero saber que xml estoy enviando realmente:"
   ]
  },
  {
   "cell_type": "code",
   "execution_count": null,
   "metadata": {},
   "outputs": [],
   "source": [
    "request = client.create_message(client.service, 'Add', intA=2, intB=1)\n",
    "\n",
    "from zeep.wsdl.utils import etree_to_string\n",
    "request_xml = etree_to_string(request).decode()\n",
    "\n",
    "print(request_xml.replace('><', '>\\n<'))  # para que se vea bonito"
   ]
  },
  {
   "cell_type": "markdown",
   "metadata": {},
   "source": [
    "si se quiere el xml tal cual lo responde el servicio:"
   ]
  },
  {
   "cell_type": "code",
   "execution_count": null,
   "metadata": {},
   "outputs": [],
   "source": [
    "with client.settings(raw_response=True):\n",
    "    result = client.service.Add(2, 1)\n",
    "    \n",
    "result_xml = result.text\n",
    "\n",
    "print(result_xml.replace('><', '>\\n<'))  # para que se vea bonito"
   ]
  },
  {
   "cell_type": "code",
   "execution_count": null,
   "metadata": {},
   "outputs": [],
   "source": []
  }
 ],
 "metadata": {
  "kernelspec": {
   "display_name": "Python 3",
   "language": "python",
   "name": "python3"
  },
  "language_info": {
   "codemirror_mode": {
    "name": "ipython",
    "version": 3
   },
   "file_extension": ".py",
   "mimetype": "text/x-python",
   "name": "python",
   "nbconvert_exporter": "python",
   "pygments_lexer": "ipython3",
   "version": "3.8.8"
  }
 },
 "nbformat": 4,
 "nbformat_minor": 4
}
