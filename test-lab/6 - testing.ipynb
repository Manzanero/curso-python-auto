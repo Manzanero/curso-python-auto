{
 "cells": [
  {
   "cell_type": "markdown",
   "metadata": {},
   "source": [
    "## Decoradores\n",
    "Los decoradores alteran de manera dinámica la funcionalidad de una función sin tener que cambiar el código fuente de la función decorada:"
   ]
  },
  {
   "cell_type": "code",
   "execution_count": 3,
   "metadata": {},
   "outputs": [
    {
     "name": "stdout",
     "output_type": "stream",
     "text": [
      "hola\n",
      "adiós\n"
     ]
    }
   ],
   "source": [
    "def di_adios_tambien(f):  # definicion del decorador\n",
    "    def nueva_funcion():\n",
    "        f()\n",
    "        print('adiós')\n",
    "    return nueva_funcion\n",
    "\n",
    "@di_adios_tambien\n",
    "def di_hola():\n",
    "    print('hola')\n",
    "\n",
    "di_hola()"
   ]
  },
  {
   "cell_type": "markdown",
   "metadata": {},
   "source": [
    "___\n",
    "# Pruebas unitarias\n",
    "___\n",
    "## Unittest\n",
    "___\n",
    "Para realizar pruebas unitarias de nuestro código usaremos `unittest` (ya está incluido de base), ejemplo de uso:"
   ]
  },
  {
   "cell_type": "code",
   "execution_count": 6,
   "metadata": {},
   "outputs": [
    {
     "name": "stderr",
     "output_type": "stream",
     "text": [
      "..\n",
      "----------------------------------------------------------------------\n",
      "Ran 2 tests in 0.004s\n",
      "\n",
      "OK\n"
     ]
    }
   ],
   "source": [
    "import unittest\n",
    "\n",
    "# el método que quiero probar\n",
    "def suma(a, b):\n",
    "    return a + b\n",
    "\n",
    "\n",
    "class TestSuma(unittest.TestCase):\n",
    "\n",
    "    def test_sum_all_positive(self):\n",
    "        resultado = suma(1, 2)\n",
    "        self.assertEqual(resultado, 3)\n",
    "\n",
    "    def test_sum_some_negative(self):\n",
    "        resultado = suma(1, -2)\n",
    "        self.assertEqual(resultado, -1)\n",
    "        \n",
    "        \n",
    "if __name__ == '__main__':\n",
    "    # unittest.main()\n",
    "    unittest.main(argv=['first-arg-is-ignored'], exit=False)  # en jupyter solo funciona poniéndolo así"
   ]
  },
  {
   "cell_type": "markdown",
   "metadata": {},
   "source": [
    "___\n",
    "### Mocks\n",
    "Supongamos que creamos una clase con un método:"
   ]
  },
  {
   "cell_type": "code",
   "execution_count": 7,
   "metadata": {},
   "outputs": [
    {
     "name": "stderr",
     "output_type": "stream",
     "text": [
      "..."
     ]
    },
    {
     "name": "stdout",
     "output_type": "stream",
     "text": [
      "Hora actual: 2020-02-24 17:49:23.289337+01:00\n",
      "Hora mock: 2020-01-01 16:30:30\n"
     ]
    },
    {
     "name": "stderr",
     "output_type": "stream",
     "text": [
      "\n",
      "----------------------------------------------------------------------\n",
      "Ran 3 tests in 0.006s\n",
      "\n",
      "OK\n"
     ]
    }
   ],
   "source": [
    "import unittest\n",
    "from mock import patch\n",
    "from datetime import datetime\n",
    "import win32timezone  # librería externa de la que voy a usar un método\n",
    "\n",
    "\n",
    "# clase a probar\n",
    "class Reloj(object):\n",
    "    \n",
    "    def da_la_hora(self):\n",
    "        \"\"\"\n",
    "        Devuelve la hora como texto en el formato \"HH:MM:SS\"\n",
    "        \"\"\"\n",
    "        hora = win32timezone.now()  # método externo que va a ser mockeado\n",
    "        return hora.strftime(\"%H:%M:%S\")\n",
    "    \n",
    "print('Hora actual:', win32timezone.now())\n",
    "        \n",
    "\n",
    "# mock para un método que no es mío\n",
    "def mock_now():\n",
    "    hora_fijada = '2020-01-01 16:30:30.000000'\n",
    "    return datetime.strptime(hora_fijada, '%Y-%m-%d %H:%M:%S.%f')\n",
    "        \n",
    "print('Hora mock:', mock_now())\n",
    "\n",
    "\n",
    "# pruebas unitarias de la clase\n",
    "class TestReloj(unittest.TestCase):\n",
    "\n",
    "    @patch('win32timezone.now', side_effect=mock_now)\n",
    "    def test_reloj_da_la_hora(self, mocked_now):\n",
    "        reloj = Reloj()\n",
    "        self.assertEqual(reloj.da_la_hora(), '16:30:30')\n",
    "        \n",
    "        \n",
    "if __name__ == '__main__':\n",
    "    # unittest.main()\n",
    "    unittest.main(argv=['first-arg-is-ignored'], exit=False)  # en jupyter solo funciona poniéndolo así"
   ]
  },
  {
   "cell_type": "markdown",
   "metadata": {},
   "source": [
    "___\n",
    "# Pruebas funcionales\n",
    "___\n",
    "## Behave\n",
    "___\n",
    "Para realizar pruebas funcinales vamos a usar la librería `behave`. No se puede crear sobre Jupyter Notebooks así que usaremos PyCharm.\n",
    "1. Creamos un nuevo proyecto\n",
    "2. Instalamos la librería `behave` en él\n",
    "3. Creamos una carpeta llamada `features` y dentro un archivo llamado `demo.feature`, con este contenido:\n",
    "\n",
    ">```gherkin\n",
    ">Feature: showing off behave\n",
    ">\n",
    ">  Scenario: run a simple test\n",
    ">    Given we have behave installed\n",
    ">    When we implement a test\n",
    ">    Then behave will test it for us!\n",
    ">```\n",
    "\n",
    "4. Creamos una carpeta llamada `steps` y dentro un archivo llamado `steps.py`, con este contenido:\n",
    "\n",
    ">```python\n",
    ">from behave import *\n",
    ">\n",
    ">@given('we have behave installed')\n",
    ">def step_impl(context):\n",
    ">    pass\n",
    ">\n",
    ">@when('we implement a test')\n",
    ">def step_impl(context):\n",
    ">    assert True is not False\n",
    ">\n",
    ">@then('behave will test it for us!')\n",
    ">def step_impl(context):\n",
    ">    assert context.failed is False\n",
    "```\n",
    "\n",
    "5. Creamos el archivo `environment.py`\n",
    "6. abrimos un terminar cmd y ejecutamos:\n",
    "\n",
    ">```shell\n",
    ">$ cd {ruta del proyecto}\n",
    "$ behave\n",
    ">```"
   ]
  },
  {
   "cell_type": "code",
   "execution_count": null,
   "metadata": {},
   "outputs": [],
   "source": []
  }
 ],
 "metadata": {
  "kernelspec": {
   "display_name": "Python 3",
   "language": "python",
   "name": "python3"
  },
  "language_info": {
   "codemirror_mode": {
    "name": "ipython",
    "version": 3
   },
   "file_extension": ".py",
   "mimetype": "text/x-python",
   "name": "python",
   "nbconvert_exporter": "python",
   "pygments_lexer": "ipython3",
   "version": "3.7.4"
  }
 },
 "nbformat": 4,
 "nbformat_minor": 4
}
