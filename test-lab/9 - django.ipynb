{
 "cells": [
  {
   "cell_type": "markdown",
   "metadata": {},
   "source": [
    "# Capítulo 9 - Uso de Django para crear y desplegar apps web\n",
    "___\n",
    "## Crear un proyecto Django\n",
    "___\n",
    "Para crear una pagina web instalamos Django:"
   ]
  },
  {
   "cell_type": "code",
   "execution_count": 11,
   "metadata": {},
   "outputs": [
    {
     "name": "stdout",
     "output_type": "stream",
     "text": [
      "Requirement already satisfied: django in c:\\users\\alejandro.manzanero\\anaconda3\\lib\\site-packages (3.2.9)\n",
      "Collecting whitenoise\n",
      "  Downloading whitenoise-5.3.0-py2.py3-none-any.whl (19 kB)\n",
      "Requirement already satisfied: asgiref<4,>=3.3.2 in c:\\users\\alejandro.manzanero\\anaconda3\\lib\\site-packages (from django) (3.4.1)\n",
      "Requirement already satisfied: pytz in c:\\users\\alejandro.manzanero\\anaconda3\\lib\\site-packages (from django) (2021.1)\n",
      "Requirement already satisfied: sqlparse>=0.2.2 in c:\\users\\alejandro.manzanero\\anaconda3\\lib\\site-packages (from django) (0.4.2)\n",
      "Installing collected packages: whitenoise\n",
      "Successfully installed whitenoise-5.3.0\n"
     ]
    }
   ],
   "source": [
    "! pip install django whitenoise"
   ]
  },
  {
   "cell_type": "markdown",
   "metadata": {},
   "source": [
    "creamos un proyecto Django con el comando:"
   ]
  },
  {
   "cell_type": "code",
   "execution_count": null,
   "metadata": {},
   "outputs": [],
   "source": [
    "! django-admin startproject webproject ../my-project"
   ]
  },
  {
   "cell_type": "markdown",
   "metadata": {},
   "source": [
    "vamos a `~/workspaces/my-project` y ahí vemos la carpeta `webproject` y `manage.py`. Añadimos un archivo nuevo `requirements.txt` con el contenido:\n",
    "\n",
    "```\n",
    "django\n",
    "whitenoise\n",
    "```\n",
    "\n",
    "Ahora haremos unos cambios en `webproject/settings.py`:\n",
    "\n",
    "```python\n",
    "DEBUG = False\n",
    "\n",
    "ALLOWED_HOSTS = ['localhost', '127.0.0.1', '.pythonanywhere.com']\n",
    "\n",
    "MIDDLEWARE = [\n",
    "    # 'django.middleware.security.SecurityMiddleware',  # esta línea se comenta\n",
    "    'whitenoise.middleware.WhiteNoiseMiddleware',       # esta línea se añade\n",
    "    ...                                                 # el resto igual\n",
    "]\n",
    "    \n",
    "LANGUAGE_CODE = 'es-es'\n",
    "\n",
    "TIME_ZONE = 'Europe/Madrid'\n",
    "\n",
    "STATIC_URL = '/static/'\n",
    "STATIC_ROOT = 'static_root'\n",
    "```\n",
    "\n",
    "ejecutamos estos comando para regenerar la base de datos y reunir los archivos estáticos:\n",
    "\n",
    "```shell\n",
    "cd ~/workspaces/my-project\n",
    "python manage.py migrate\n",
    "python manage.py collectstatic\n",
    "```\n",
    "\n",
    "para que los archivo autogenerados no se suban al repositorio añadimos un `.gitignore` con:\n",
    "\n",
    "```\n",
    "static_root\n",
    "db.sqlite3\n",
    "```\n",
    "\n",
    "levantamos el servidor con los comandos:\n",
    "\n",
    "```shell\n",
    "python manage.py startserver 80\n",
    "```\n",
    "\n",
    "Sin cerrar la consola vamos a url http://localhost y seberíamos ver nuestro server levantado\n",
    "\n",
    "Ahora podemos crear una cuenta de admin en la web con el comando:\n",
    "\n",
    "```shell\n",
    "python manage.py createsuperuser\n",
    "```"
   ]
  },
  {
   "cell_type": "markdown",
   "metadata": {},
   "source": [
    "## Crear una cuenta en pythonanywhere\n",
    "___\n",
    "1. visitamos https://www.pythonanywhere.com/\n",
    "2. le damos a crear una cuenta (singup), ponemos un nombre de usuario y email (el dominio finalmente será https://{user}.pythonanywhere.com)"
   ]
  },
  {
   "cell_type": "code",
   "execution_count": null,
   "metadata": {},
   "outputs": [],
   "source": []
  }
 ],
 "metadata": {
  "kernelspec": {
   "display_name": "Python 3",
   "language": "python",
   "name": "python3"
  },
  "language_info": {
   "codemirror_mode": {
    "name": "ipython",
    "version": 3
   },
   "file_extension": ".py",
   "mimetype": "text/x-python",
   "name": "python",
   "nbconvert_exporter": "python",
   "pygments_lexer": "ipython3",
   "version": "3.8.8"
  }
 },
 "nbformat": 4,
 "nbformat_minor": 4
}
