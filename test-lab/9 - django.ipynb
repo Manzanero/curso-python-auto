{
 "cells": [
  {
   "cell_type": "markdown",
   "metadata": {},
   "source": [
    "# Capítulo 9 - Uso de Django para crear y desplegar apps web\n",
    "___\n",
    "## Crear un proyecto Django\n",
    "___\n",
    "Para crear una pagina web instalamos Django:"
   ]
  },
  {
   "cell_type": "code",
   "execution_count": null,
   "metadata": {},
   "outputs": [],
   "source": [
    "! pip install django whitenoise"
   ]
  },
  {
   "cell_type": "markdown",
   "metadata": {},
   "source": [
    "creamos un proyecto Django con el comando:"
   ]
  },
  {
   "cell_type": "code",
   "execution_count": null,
   "metadata": {},
   "outputs": [],
   "source": [
    "! django-admin startproject webproject ../my-project"
   ]
  },
  {
   "cell_type": "markdown",
   "metadata": {},
   "source": [
    "vamos a `~/workspaces/my-project` y ahí vemos la carpeta `webproject` y `manage.py`. Añadimos un archivo nuevo `requirements.txt` con el contenido:\n",
    "\n",
    "```\n",
    "django\n",
    "whitenoise\n",
    "```\n",
    "\n",
    "Ahora haremos unos cambios en `webproject/settings.py`:\n",
    "\n",
    "```python\n",
    "ALLOWED_HOSTS = ['localhost', '127.0.0.1', '.pythonanywhere.com']\n",
    "\n",
    "MIDDLEWARE = [\n",
    "    # 'django.middleware.security.SecurityMiddleware',  # esta línea se comenta\n",
    "    'whitenoise.middleware.WhiteNoiseMiddleware',       # esta línea se añade\n",
    "    ...                                                 # el resto igual\n",
    "]\n",
    "    \n",
    "LANGUAGE_CODE = 'es-es'\n",
    "\n",
    "TIME_ZONE = 'Europe/Madrid'\n",
    "\n",
    "STATIC_URL = '/static/'\n",
    "STATIC_ROOT = 'static_root'\n",
    "```\n",
    "\n",
    "ejecutamos estos comando para regenerar la base de datos y reunir los archivos estáticos:\n",
    "\n",
    "```shell\n",
    "cd ~/workspaces/my-project\n",
    "python manage.py migrate\n",
    "python manage.py collectstatic\n",
    "```\n",
    "\n",
    "para que los archivo autogenerados no se suban al repositorio añadimos un `.gitignore` con:\n",
    "\n",
    "```\n",
    "static_root\n",
    "db.sqlite3\n",
    "```\n",
    "\n",
    "levantamos el servidor con los comandos:\n",
    "\n",
    "```shell\n",
    "python manage.py startserver 80\n",
    "```\n",
    "\n",
    "Sin cerrar la consola vamos a url http://localhost y seberíamos ver nuestro server levantado\n",
    "\n",
    "Ahora podemos crear una cuenta de admin en la web con el comando:\n",
    "\n",
    "```shell\n",
    "python manage.py createsuperuser\n",
    "```"
   ]
  },
  {
   "cell_type": "markdown",
   "metadata": {},
   "source": [
    "## Crear una cuenta en pythonanywhere\n",
    "___\n",
    "1. visitamos https://www.pythonanywhere.com/\n",
    "2. le damos a crear una cuenta (singup), ponemos un nombre de usuario y email (el dominio finalmente será https://{user}.pythonanywhere.com)\n",
    "3. vamos arriba a la derecha \"Cuenta\" > \"API token\", pulsamos en generar token"
   ]
  },
  {
   "cell_type": "markdown",
   "metadata": {},
   "source": [
    "## Despliege\n",
    "___\n",
    "vamos a \"Dashboard\" > \"New console\" > \"Bash\" y ponemos los siguientes comandos: \n",
    "\n",
    "```shell\n",
    "pip3.9 install --user pythonanywhere\n",
    "pa_autoconfigure_django.py --python=3.9 https://github.com/Manzanero/curso-python-auto\n",
    "python manage.py createsuperuser\n",
    "```\n",
    "\n",
    "ahora la web estaría abierta al público en la url: https://{user}.pythonanywhere.com\n",
    "\n",
    "si hay cambios en el repositorio para traerlos bastaría con poner en la consola:\n",
    "\n",
    "```shell\n",
    "git pull\n",
    "```"
   ]
  },
  {
   "cell_type": "markdown",
   "metadata": {},
   "source": [
    "## Añadir funcionalidad\n",
    "___\n",
    "a partir de aquí se puede seguir un tutorial de Django para añadir alguna funcionalidad, por ejemplo: https://docs.djangoproject.com/en/3.2/intro/tutorial01/#creating-the-polls-app"
   ]
  }
 ],
 "metadata": {
  "kernelspec": {
   "display_name": "Python 3",
   "language": "python",
   "name": "python3"
  },
  "language_info": {
   "codemirror_mode": {
    "name": "ipython",
    "version": 3
   },
   "file_extension": ".py",
   "mimetype": "text/x-python",
   "name": "python",
   "nbconvert_exporter": "python",
   "pygments_lexer": "ipython3",
   "version": "3.8.8"
  }
 },
 "nbformat": 4,
 "nbformat_minor": 4
}