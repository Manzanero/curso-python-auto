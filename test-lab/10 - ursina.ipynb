{
 "cells": [
  {
   "cell_type": "markdown",
   "metadata": {},
   "source": [
    "# Capítulo 10 - Uso de Ursina para crear videojuegos\n",
    "___\n",
    "## Crear un proyecto Ursina\n",
    "___\n",
    "Para crear una pagina web instalamos Ursina:\n",
    "\n",
    "``` shell\n",
    "pip install ursina\n",
    "```\n",
    "\n",
    "[si visitamos su web](https://www.ursinaengine.org/) podemos ir probando los distintos ejemplos. \n",
    "\n",
    "y [aquí está la documentación de su API](https://www.ursinaengine.org/cheat_sheet.html)\n",
    "\n",
    "### Sistema de coordenadas de las entidades\n",
    "\n",
    "```\n",
    "            y (up)\n",
    "            |\n",
    "            |\n",
    "(forward) z |\n",
    "          \\ |\n",
    "           \\|\n",
    "            *---------- x (right)\n",
    "```\n",
    "\n",
    "### Rotación\n",
    "\n",
    "la rotatión es positiva en el sentido de los dedos si el pulgar representa el eje de rotación apuntando al sentido positivo\n",
    "\n",
    "```\n",
    "           _______\n",
    "          /\n",
    "          \\->\n",
    "    __\n",
    "   /  \\     y\n",
    "  |   v     |\n",
    "  |      z  |                __\n",
    "          \\ |               /  \\\n",
    "           \\|               v   |\n",
    "            *---------- x       |\n",
    "                                |\n",
    "```\n",
    "\n",
    "### Sistema de coordenadas de la interfaz\n",
    "\n",
    "```\n",
    "_______________________(.5, .5)____(window.top_right)\n",
    "|       '                  '       |\n",
    "|       '                  '       |\n",
    "|       '                  '       |\n",
    "|       '                  '       |\n",
    "|       '      (0, 0)      '       |(.5 * window.aspect_ratio, 0)\n",
    "|       '                  '       |\n",
    "|       '                  '       |\n",
    "|       '                  '       |\n",
    "|_______'__________________'_______|\n",
    "    (-.5, -.5)\n",
    "\n",
    "```\n",
    "\n",
    "### Origen\n",
    "\n",
    "Para situar objetos en la interfaz es útil mover el \"origin\"\n",
    "\n",
    "```\n",
    "            (-.5,.5)\n",
    "+--------+      *--------+\n",
    "|        |      |        |\n",
    "|  (0,0) |      |        |\n",
    "|        |      |        |\n",
    "+--------+      +--------+\n",
    "```"
   ]
  },
  {
   "cell_type": "markdown",
   "metadata": {},
   "source": [
    "### Ejemplo\n",
    "___\n",
    "En `game.py` se incluye un ejemplo de un juego que genera un mapa a partir de un fichero excel, `level.xlsx`"
   ]
  },
  {
   "cell_type": "code",
   "execution_count": null,
   "metadata": {},
   "outputs": [],
   "source": [
    "! pip install -U openpyxl"
   ]
  },
  {
   "cell_type": "code",
   "execution_count": null,
   "metadata": {},
   "outputs": [],
   "source": [
    "! python game.py"
   ]
  },
  {
   "cell_type": "code",
   "execution_count": null,
   "metadata": {},
   "outputs": [],
   "source": []
  }
 ],
 "metadata": {
  "kernelspec": {
   "display_name": "Python 3",
   "language": "python",
   "name": "python3"
  },
  "language_info": {
   "codemirror_mode": {
    "name": "ipython",
    "version": 3
   },
   "file_extension": ".py",
   "mimetype": "text/x-python",
   "name": "python",
   "nbconvert_exporter": "python",
   "pygments_lexer": "ipython3",
   "version": "3.8.8"
  }
 },
 "nbformat": 4,
 "nbformat_minor": 4
}
