{
 "cells": [
  {
   "cell_type": "markdown",
   "metadata": {},
   "source": [
    "## JSON\n",
    "\n",
    "es una estructura de información similar a xml. Ejemplo:\n",
    "```\n",
    "data = {\n",
    "    \"key1\": \"value1\",\n",
    "    \"key2\": 2,\n",
    "    \"key3\": true,\n",
    "    \"key4\": null,\n",
    "    \"key5\": [\n",
    "        \"value51\",\n",
    "        \"value52\"\n",
    "    ],\n",
    "    \"key6\": {\n",
    "        \"key61\": \"value61\",\n",
    "        \"key62\": \"value62\"\n",
    "    }\n",
    "}\n",
    "    \n",
    "```"
   ]
  },
  {
   "cell_type": "code",
   "execution_count": null,
   "metadata": {},
   "outputs": [],
   "source": [
    "json_raw = \"\"\"{\n",
    "    \"key1\": \"value1\",\n",
    "    \"key2\": 2,\n",
    "    \"key3\": true,\n",
    "    \"key4\": null,\n",
    "    \"key5\": [\n",
    "        \"value51\",\n",
    "        \"value52\"\n",
    "    ],\n",
    "    \"key6\": {\n",
    "        \"key61\": \"value61\",\n",
    "        \"key62\": \"value62\"\n",
    "    }\n",
    "}\n",
    "\"\"\"\n",
    "\n",
    "import json\n",
    "data = json.loads(json_raw)  # json -> dict\n",
    "\n",
    "print('1 :', data[\"key1\"] )\n",
    "print('2 :', data[\"key2\"] )\n",
    "print('3 :', data[\"key3\"] )\n",
    "print('4 :', data[\"key4\"] )\n",
    "print('5 :' , data[\"key5\"] )\n",
    "print('51:', data[\"key5\"][0] )\n",
    "print('52:', data[\"key5\"][1] )\n",
    "print('6 :' , data[\"key6\"] )\n",
    "print('61:', data[\"key6\"][\"key61\"] )\n",
    "print('62:', data[\"key6\"][\"key62\"] )\n",
    "\n",
    "data_json = json.dumps(data)  # dict -> json\n",
    "print(data_json)"
   ]
  },
  {
   "cell_type": "markdown",
   "metadata": {},
   "source": [
    "___\n",
    "# API REST\n",
    "___\n",
    "Para consumir servicios API REST (los que devuelven un json) instalamos la libreía `requests`:"
   ]
  },
  {
   "cell_type": "code",
   "execution_count": null,
   "metadata": {},
   "outputs": [],
   "source": [
    "! pip install requests --trusted-host pypi.python.org"
   ]
  },
  {
   "cell_type": "markdown",
   "metadata": {},
   "source": [
    "___\n",
    "y la importamos:"
   ]
  },
  {
   "cell_type": "code",
   "execution_count": null,
   "metadata": {},
   "outputs": [],
   "source": [
    "import requests"
   ]
  },
  {
   "cell_type": "markdown",
   "metadata": {},
   "source": [
    "___\n",
    "## GET\n",
    "consumir un servicio REST dada su url:"
   ]
  },
  {
   "cell_type": "code",
   "execution_count": null,
   "metadata": {},
   "outputs": [],
   "source": [
    "url = \"https://aws.random.cat/meow\"\n",
    "response = requests.get(url)\n",
    "\n",
    "print(response.status_code)\n",
    "print('1:', response.text)\n",
    "\n",
    "# file = json.loads(response.text)['file']\n",
    "file = response.json()['file']\n",
    "print('2:', file)\n",
    "\n",
    "from IPython.display import Image  # https://ipython.org/ipython-doc/dev/api/generated/IPython.display.html\n",
    "Image(file, width=300, height=300)"
   ]
  },
  {
   "cell_type": "markdown",
   "metadata": {},
   "source": [
    "___\n",
    "hacer un GET pasando parámetros:\n",
    "                          "
   ]
  },
  {
   "cell_type": "code",
   "execution_count": null,
   "metadata": {},
   "outputs": [],
   "source": [
    "# url = \"https://en.wikipedia.org/w/api.php?format=json&action=query&prop=extracts&exintro=&explaintext=&titles=pizza\"  # Bad\n",
    "# url = \"https://en.wikipedia.org//w/api.php\"  # Good\n",
    "\n",
    "url = \"https://test.wikipedia.org//w/api.php\"  # mejor usar el entono de pruebas de wikipedia\n",
    "params = {\n",
    "    'format': 'json',\n",
    "    'action': 'query',\n",
    "    'prop': 'extracts',\n",
    "    'exintro': '',\n",
    "    'explaintext': '',\n",
    "    'titles': 'Page550',\n",
    "}\n",
    "\n",
    "response = requests.get(url, params=params)\n",
    "\n",
    "print( list( response.json()['query']['pages'].values() )[0]['extract'] )\n",
    "\n",
    "from IPython.display import JSON  # https://ipython.org/ipython-doc/dev/api/generated/IPython.display.html\n",
    "JSON(response.json())"
   ]
  },
  {
   "cell_type": "code",
   "execution_count": null,
   "metadata": {},
   "outputs": [],
   "source": [
    "url = \"https://api.nytimes.com/svc/search/v2/articlesearch.json?q=election&api-key=yourkey\"\n",
    "\n",
    "response = requests.get(url)\n",
    "\n",
    "print(response.json())"
   ]
  },
  {
   "cell_type": "markdown",
   "metadata": {},
   "source": [
    "___\n",
    "## POST"
   ]
  },
  {
   "cell_type": "markdown",
   "metadata": {},
   "source": [
    "Se utiliza POST para enviar un documento (generalmente json) junto con la url:"
   ]
  },
  {
   "cell_type": "code",
   "execution_count": null,
   "metadata": {},
   "outputs": [],
   "source": [
    "url = \"http://dummy.restapiexample.com/api/v1/create\" \n",
    "data = '{\"name\":\"test\",\"salary\":\"123\",\"age\":\"23\"}'  # json\n",
    "\n",
    "response = requests.post(url, data=data)\n",
    "\n",
    "# o\n",
    "url = \"http://dummy.restapiexample.com/api/v1/create\" \n",
    "data = {'name': 'test', 'salary': 123, 'age': 23}  # dict\n",
    "\n",
    "response = requests.post(url, json=data)"
   ]
  },
  {
   "cell_type": "markdown",
   "metadata": {},
   "source": [
    "___\n",
    "Algunos servicios requieren headers o autorización en la llamada:"
   ]
  },
  {
   "cell_type": "code",
   "execution_count": null,
   "metadata": {},
   "outputs": [],
   "source": [
    "url = \"http://dummy.restapiexample.com/api/v1/create\" \n",
    "headers = {'type': 'application/json',\n",
    "           'token': 'KJbJBUOu6TGuyUYGG'}\n",
    "\n",
    "from requests.auth import HTTPBasicAuth\n",
    "auth = HTTPBasicAuth('<user>', '<pass>')\n",
    "\n",
    "data = {'name': 'test', \n",
    "        'salary': 123, \n",
    "        'age': 23}\n",
    "\n",
    "response = requests.post(url, headers=headers, auth=auth, json=data)"
   ]
  },
  {
   "cell_type": "markdown",
   "metadata": {},
   "source": [
    "___\n",
    "# API SOAP\n",
    "___\n",
    "Para consumir servicios API SOAP (los que devuelven un xml) instalamos la libreía `zeep`:"
   ]
  },
  {
   "cell_type": "code",
   "execution_count": null,
   "metadata": {},
   "outputs": [],
   "source": [
    "! pip install zeep --trusted-host pypi.python.org"
   ]
  },
  {
   "cell_type": "markdown",
   "metadata": {},
   "source": [
    "___\n",
    "examinar un endpoint:"
   ]
  },
  {
   "cell_type": "code",
   "execution_count": null,
   "metadata": {},
   "outputs": [],
   "source": [
    "! python -mzeep http://www.dneonline.com/calculator.asmx?wsdl"
   ]
  },
  {
   "cell_type": "code",
   "execution_count": null,
   "metadata": {},
   "outputs": [],
   "source": [
    "from zeep import Client\n",
    "\n",
    "client = Client('http://www.dneonline.com/calculator.asmx?wsdl')\n",
    "result = client.service.Add(2, 1)  # 2 + 1\n",
    "print('1:', result)\n",
    "\n",
    "result = client.service.Subtract(intA=2, intB=1)  # 2 - 1\n",
    "print('2:', result)\n",
    "\n",
    "result = client.service['Multiply'](intA=2, intB=1)  # 2 * 1\n",
    "print('3:', result)"
   ]
  },
  {
   "cell_type": "markdown",
   "metadata": {},
   "source": [
    "___\n",
    "si quiero saber que xml estoy enviando realmente:"
   ]
  },
  {
   "cell_type": "code",
   "execution_count": null,
   "metadata": {},
   "outputs": [],
   "source": [
    "request = client.create_message(client.service, 'Add', intA=2, intB=1)\n",
    "\n",
    "from zeep.wsdl.utils import etree_to_string\n",
    "\n",
    "request_xml = etree_to_string(request).decode()\n",
    "print(request_xml.replace('><', '>\\n<'))"
   ]
  },
  {
   "cell_type": "markdown",
   "metadata": {},
   "source": [
    "___\n",
    "si se quiere el xml tal cual lo responde el servicio:"
   ]
  },
  {
   "cell_type": "code",
   "execution_count": null,
   "metadata": {},
   "outputs": [],
   "source": [
    "with client.settings(raw_response=True):\n",
    "    result = client.service.Add(2, 1)\n",
    "    \n",
    "print(result.text.replace('><', '>\\n<'))"
   ]
  }
 ],
 "metadata": {
  "kernelspec": {
   "display_name": "Python 3",
   "language": "python",
   "name": "python3"
  },
  "language_info": {
   "codemirror_mode": {
    "name": "ipython",
    "version": 3
   },
   "file_extension": ".py",
   "mimetype": "text/x-python",
   "name": "python",
   "nbconvert_exporter": "python",
   "pygments_lexer": "ipython3",
   "version": "3.7.4"
  }
 },
 "nbformat": 4,
 "nbformat_minor": 4
}
