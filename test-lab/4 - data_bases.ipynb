{
 "cells": [
  {
   "cell_type": "markdown",
   "metadata": {},
   "source": [
    "## with\n",
    "con with se define un bloque para un objeto definido, el cual se autodestruirá al terminar:"
   ]
  },
  {
   "cell_type": "code",
   "execution_count": null,
   "metadata": {},
   "outputs": [],
   "source": [
    "VALOR = 0\n",
    "\n",
    "class Object(object):\n",
    "    \n",
    "    def __init__(self, value):\n",
    "        self.value = value\n",
    "        print(self.value)\n",
    "    \n",
    "    def __enter__(self):\n",
    "        self.value = 1\n",
    "        print(self.value)\n",
    "        return self\n",
    "\n",
    "    def __exit__(self, type, value, tb):\n",
    "        self.value = 2\n",
    "        print(self.value)\n",
    "\n",
    "        \n",
    "print('VALOR INICIAL:', VALOR)\n",
    "\n",
    "with Object(VALOR) as o:\n",
    "    VALOR = o.value\n",
    "    \n",
    "print('VALOR FINAL:', VALOR)"
   ]
  },
  {
   "cell_type": "markdown",
   "metadata": {},
   "source": [
    "# Data Bases\n",
    "___\n",
    "## Conexión:\n",
    "Para conectar con una base de datos se puede usar la librería `records`:"
   ]
  },
  {
   "cell_type": "code",
   "execution_count": null,
   "metadata": {},
   "outputs": [],
   "source": [
    "! pip install records==0.5.2 --trusted-host pypi.python.org\n",
    "# tarda"
   ]
  },
  {
   "cell_type": "code",
   "execution_count": null,
   "metadata": {},
   "outputs": [],
   "source": [
    "import records"
   ]
  },
  {
   "cell_type": "code",
   "execution_count": null,
   "metadata": {},
   "outputs": [],
   "source": [
    "db = records.Database('sqlite+pysqlite:///db.sqlite3')\n",
    "rs = db.query(\"select 1\")\n",
    "db.close()"
   ]
  },
  {
   "cell_type": "markdown",
   "metadata": {},
   "source": [
    "___\n",
    "crear una tabla e insertar algunos registros:"
   ]
  },
  {
   "cell_type": "code",
   "execution_count": null,
   "metadata": {},
   "outputs": [],
   "source": [
    "with records.Database('sqlite+pysqlite:///db.sqlite3') as db:\n",
    "    db.query(\"DROP TABLE tabla1\")\n",
    "    db.query(\n",
    "        \"\"\"\n",
    "        CREATE TABLE IF NOT EXISTS tabla1 (\n",
    "            contact_id INTEGER PRIMARY KEY,\n",
    "            first_name TEXT    NOT NULL,\n",
    "            last_name  TEXT,\n",
    "            phone      TEXT    NOT NULL CHECK (length(phone) >= 9) \n",
    "        );\n",
    "        \"\"\"\n",
    "    )\n",
    "    db.query(\"\"\"INSERT INTO tabla1 (first_name, last_name, phone)\n",
    "                VALUES('Alejandro', 'Manzanero', '987654321');\"\"\")\n",
    "    db.query(\"\"\"INSERT INTO tabla1 (first_name, last_name, phone)\n",
    "                VALUES('Elon', 'Musk', '987654321');\"\"\")"
   ]
  },
  {
   "cell_type": "markdown",
   "metadata": {},
   "source": [
    "___\n",
    "## Select"
   ]
  },
  {
   "cell_type": "code",
   "execution_count": null,
   "metadata": {},
   "outputs": [],
   "source": [
    "with records.Database('sqlite+pysqlite:///db.sqlite3') as db:\n",
    "    rs = db.query(\"select * from tabla1\")\n",
    "    print('1-1:', rs)\n",
    "    print('2  :', len(list(rs)))  # carga todos los resultados\n",
    "    \n",
    "print('1-2:', rs)\n",
    "print('3  :', rs[0])                # tambien carga los resultados\n",
    "print('4  :', dict(rs[1]))\n",
    "print('5  :', rs[0]['first_name'])"
   ]
  },
  {
   "cell_type": "markdown",
   "metadata": {},
   "source": [
    "___\n",
    "cuando la query es larga iterar sobre la colección es más eficiente:"
   ]
  },
  {
   "cell_type": "code",
   "execution_count": null,
   "metadata": {},
   "outputs": [],
   "source": [
    "for r in rs:\n",
    "    print( r['first_name'] )"
   ]
  },
  {
   "cell_type": "markdown",
   "metadata": {},
   "source": [
    "___\n",
    "## Update"
   ]
  },
  {
   "cell_type": "code",
   "execution_count": null,
   "metadata": {},
   "outputs": [],
   "source": [
    "with records.Database('sqlite+pysqlite:///db.sqlite3') as db:\n",
    "    db.query(\"\"\"UPDATE tabla1 SET first_name = 'Alex'\n",
    "                WHERE first_name = 'Alejandro';\"\"\")\n",
    "    # db.query(\"\"\"UPDATE tabla1 SET first_name = 'Alejandro'\n",
    "    #             WHERE first_name = 'Alex';\"\"\")\n",
    "\n",
    "    rs = db.query(\"select * from tabla1\")\n",
    "    for r in rs:\n",
    "        print( r['first_name'] )"
   ]
  },
  {
   "cell_type": "markdown",
   "metadata": {},
   "source": [
    "___\n",
    "## Más ejemplos de cadenas de conexión"
   ]
  },
  {
   "cell_type": "code",
   "execution_count": null,
   "metadata": {},
   "outputs": [],
   "source": [
    "db = records.Database('mssql+pymssql://{username}:{password}@{server}:{port}')  # SQL Server (requiere instalar pymssql, pip install pymssql)\n",
    "db = records.Database('mssql+pymssql://{username}:{password}@{server}\\\\INSTANCE{n}/{db_name}')\n",
    "db = records.Database(\"oracle+cx_oracle://{username}:{password}{server}:{port}/?service_name={service_name}\")  # SQL Server (requiere instalar driver oracle)"
   ]
  },
  {
   "cell_type": "markdown",
   "metadata": {},
   "source": [
    "`records` está basado en SQLAlchemy, se puede encontrar más documntación en: https://docs.sqlalchemy.org/en/13/dialects/mysql.html "
   ]
  }
 ],
 "metadata": {
  "kernelspec": {
   "display_name": "Python 3",
   "language": "python",
   "name": "python3"
  },
  "language_info": {
   "codemirror_mode": {
    "name": "ipython",
    "version": 3
   },
   "file_extension": ".py",
   "mimetype": "text/x-python",
   "name": "python",
   "nbconvert_exporter": "python",
   "pygments_lexer": "ipython3",
   "version": "3.7.4"
  }
 },
 "nbformat": 4,
 "nbformat_minor": 4
}
