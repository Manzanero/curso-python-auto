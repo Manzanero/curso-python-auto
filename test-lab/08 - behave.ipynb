{
 "cells": [
  {
   "cell_type": "markdown",
   "metadata": {},
   "source": [
    "# Capítulo 8 - Uso de Behave para automatizar tests definidos con BDD (Cucumber)\n",
    "___\n",
    "## Behave\n",
    "___\n",
    "Para realizar pruebas funcinales vamos a usar la librería `behave`. No se puede crear sobre Jupyter Notebooks así que usaremos PyCharm.\n",
    "1. Creamos un nuevo proyecto\n",
    "2. Instalamos la librería `behave` en él (`pip install behave`)\n",
    "3. Creamos una carpeta llamada `/features/` y dentro un archivo llamado `/features/demo.feature`, con este contenido:\n",
    "\n",
    ">```gherkin\n",
    ">Feature: showing off behave\n",
    ">\n",
    ">  Scenario: run a simple test\n",
    ">    Given we have behave installed\n",
    ">    When we implement a test\n",
    ">    Then behave will test it for us!\n",
    ">```\n",
    "\n",
    "4. Creamos una carpeta llamada `/steps/` y dentro un archivo llamado `/steps/steps.py`, con este contenido:\n",
    "\n",
    ">```python\n",
    ">from behave import *\n",
    ">\n",
    ">@given('we have behave installed')\n",
    ">def step_impl(context):\n",
    ">    pass\n",
    ">\n",
    ">@when('we implement a test')\n",
    ">def step_impl(context):\n",
    ">    assert True is not False\n",
    ">\n",
    ">@then('behave will test it for us!')\n",
    ">def step_impl(context):\n",
    ">    assert context.failed is False\n",
    ">```\n",
    "\n",
    "5. Creamos el archivo `/environment.py`\n",
    "6. abrimos un terminar cmd y ejecutamos:\n",
    "\n",
    ">```shell\n",
    "> cd {ruta del proyecto}\n",
    "behave\n",
    ">```"
   ]
  },
  {
   "cell_type": "code",
   "execution_count": null,
   "metadata": {},
   "outputs": [],
   "source": []
  }
 ],
 "metadata": {
  "kernelspec": {
   "display_name": "Python 3",
   "language": "python",
   "name": "python3"
  },
  "language_info": {
   "codemirror_mode": {
    "name": "ipython",
    "version": 3
   },
   "file_extension": ".py",
   "mimetype": "text/x-python",
   "name": "python",
   "nbconvert_exporter": "python",
   "pygments_lexer": "ipython3",
   "version": "3.8.8"
  }
 },
 "nbformat": 4,
 "nbformat_minor": 4
}
