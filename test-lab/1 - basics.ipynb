{
 "cells": [
  {
   "cell_type": "markdown",
   "metadata": {},
   "source": [
    "# Variables\n",
    "___\n",
    "\n",
    "## cadenas de texto (strings)\n",
    "___\n",
    "declarar el valor `value1` a la variable `var1`:"
   ]
  },
  {
   "cell_type": "code",
   "execution_count": null,
   "metadata": {},
   "outputs": [],
   "source": [
    "var1 = 'valu\"e1'\n",
    "var1 = \"valugyu\\\\\\\\yjguuotiote1\""
   ]
  },
  {
   "cell_type": "markdown",
   "metadata": {},
   "source": [
    "___\n",
    "mostrar el valor de la variable `var1`: (clicar el cuadrado de abajo y pulsar `shit + enter` evalua el bloque)"
   ]
  },
  {
   "cell_type": "code",
   "execution_count": null,
   "metadata": {},
   "outputs": [],
   "source": [
    "print(var1)"
   ]
  },
  {
   "cell_type": "markdown",
   "metadata": {},
   "source": [
    "___\n",
    "escribir un comentario:"
   ]
  },
  {
   "cell_type": "code",
   "execution_count": null,
   "metadata": {},
   "outputs": [],
   "source": [
    "# print('esto no se evalúa')\n",
    "print('esto sí')  # esto no se evalúa"
   ]
  },
  {
   "cell_type": "markdown",
   "metadata": {},
   "source": [
    "___\n",
    "No se puede hacer referencia a una variable sin declarar antes su valor, hacerlo elevará un error de tipo `NameError`:"
   ]
  },
  {
   "cell_type": "code",
   "execution_count": null,
   "metadata": {},
   "outputs": [],
   "source": [
    "# print(var0)"
   ]
  },
  {
   "cell_type": "markdown",
   "metadata": {},
   "source": [
    "___\n",
    "anexar una cadena de texto a otra:"
   ]
  },
  {
   "cell_type": "code",
   "execution_count": null,
   "metadata": {},
   "outputs": [],
   "source": [
    "var2 = ' and more'\n",
    "var3 = var1 + var2\n",
    "print(var3)"
   ]
  },
  {
   "cell_type": "markdown",
   "metadata": {},
   "source": [
    "___\n",
    "dar formato a una cadena de texto:"
   ]
  },
  {
   "cell_type": "code",
   "execution_count": null,
   "metadata": {},
   "outputs": [],
   "source": [
    "a = \"una\"\n",
    "b = \"otra\"\n",
    "print( f'{a} y {b}' )"
   ]
  },
  {
   "cell_type": "markdown",
   "metadata": {},
   "source": [
    "___\n",
    "## Otros tipos de variables (types)\n",
    "___\n",
    "### Números"
   ]
  },
  {
   "cell_type": "code",
   "execution_count": null,
   "metadata": {},
   "outputs": [],
   "source": [
    "x = 2\n",
    "y = 3.14\n",
    "print(x)\n",
    "print(y)\n",
    "print('suma:', x + y)\n",
    "print('resta:', x - y)\n",
    "print('multiplicación:', x * y)\n",
    "print('división:', x / y)"
   ]
  },
  {
   "cell_type": "markdown",
   "metadata": {},
   "source": [
    "___\n",
    "transformar texto en número: (cast)"
   ]
  },
  {
   "cell_type": "code",
   "execution_count": null,
   "metadata": {},
   "outputs": [],
   "source": [
    "print( int('1') )\n",
    "print( int('00002') )\n",
    "print( int('   3   ') )\n",
    "\n",
    "print( float('1') )\n",
    "print( float('00002.20000') )\n",
    "print( float('   3.33   ') )\n",
    "\n",
    "print( int('1') + int('1') )"
   ]
  },
  {
   "cell_type": "markdown",
   "metadata": {},
   "source": [
    "___\n",
    "transformar número en texto:"
   ]
  },
  {
   "cell_type": "code",
   "execution_count": null,
   "metadata": {},
   "outputs": [],
   "source": [
    "print( str(1) )\n",
    "print( str(2.2) )\n",
    "\n",
    "print( str(1) + str(1) )"
   ]
  },
  {
   "cell_type": "markdown",
   "metadata": {},
   "source": [
    "___\n",
    "### Booleanos"
   ]
  },
  {
   "cell_type": "code",
   "execution_count": null,
   "metadata": {},
   "outputs": [],
   "source": [
    "ver = True\n",
    "fal = False\n",
    "\n",
    "print(ver)\n",
    "print(fal)\n",
    "print(not ver)\n",
    "print(not fal)"
   ]
  },
  {
   "cell_type": "markdown",
   "metadata": {},
   "source": [
    "___\n",
    "operadores:"
   ]
  },
  {
   "cell_type": "code",
   "execution_count": null,
   "metadata": {},
   "outputs": [],
   "source": [
    "print('igualdad:', 1 == 1)\n",
    "print('desigualdad:', 1 != 1)\n",
    "print('mayor que:', 1 > 1)\n",
    "print('menor que:', 1 < 1)\n",
    "print('mayor o igual que:', 1 >= 1)\n",
    "print('menor o igual que:', 1 <= 1)"
   ]
  },
  {
   "cell_type": "markdown",
   "metadata": {},
   "source": [
    "___\n",
    "usar un condicional:"
   ]
  },
  {
   "cell_type": "code",
   "execution_count": null,
   "metadata": {},
   "outputs": [],
   "source": [
    "if ver:\n",
    "    print('esta sentencia se va a ejecutar')\n",
    "    \n",
    "if 1 == 2:\n",
    "    print('esta sentencia no se va a ejecutar')"
   ]
  },
  {
   "cell_type": "code",
   "execution_count": null,
   "metadata": {},
   "outputs": [],
   "source": [
    "if 1 < 2:\n",
    "    print('uno es menor que dos')"
   ]
  },
  {
   "cell_type": "code",
   "execution_count": null,
   "metadata": {},
   "outputs": [],
   "source": [
    "if 1 < 2:\n",
    "    print('esta sentencia no se va a ejecutar')\n",
    "else:\n",
    "    print('uno no es mayor que dos')"
   ]
  },
  {
   "cell_type": "code",
   "execution_count": null,
   "metadata": {},
   "outputs": [],
   "source": [
    "if 1 > 2:\n",
    "    print('esta sentencia no se va a ejecutar')\n",
    "elif 1 < 2:\n",
    "    print('uno es menor que dos')\n",
    "else:\n",
    "    print('esta sentencia no se va a ejecutar porque ya se cumplió una de las condiciones')"
   ]
  },
  {
   "cell_type": "code",
   "execution_count": null,
   "metadata": {},
   "outputs": [],
   "source": [
    "if fal or ver:\n",
    "    print(1)"
   ]
  },
  {
   "cell_type": "markdown",
   "metadata": {},
   "source": [
    "___\n",
    "operadores condicionales:"
   ]
  },
  {
   "cell_type": "code",
   "execution_count": null,
   "metadata": {},
   "outputs": [],
   "source": [
    "if fal or ver:\n",
    "    print('al menos de las dos variables es verdadera')\n",
    "\n",
    "if fal or 1 == 1:\n",
    "    print('una de las dos variables es verdadera')"
   ]
  },
  {
   "cell_type": "code",
   "execution_count": null,
   "metadata": {},
   "outputs": [],
   "source": [
    "if ver and 1 == 1:\n",
    "    print('las dos variables son verdaderas')\n",
    "\n",
    "if fal and 1 == 1:\n",
    "    print('una de las dos variables es verdadera')"
   ]
  },
  {
   "cell_type": "markdown",
   "metadata": {},
   "source": [
    "___\n",
    "transformar una variable en booleano:"
   ]
  },
  {
   "cell_type": "code",
   "execution_count": null,
   "metadata": {},
   "outputs": [],
   "source": [
    "print( bool(\"\") )\n",
    "print( bool(\"algo\") )\n",
    "print( bool(0) )\n",
    "print( bool(-1) )"
   ]
  },
  {
   "cell_type": "markdown",
   "metadata": {},
   "source": [
    "___\n",
    "comprobar si una cadena de texto está dentro de otra:"
   ]
  },
  {
   "cell_type": "code",
   "execution_count": null,
   "metadata": {},
   "outputs": [],
   "source": [
    "if \"ferhwtjtrjtr\" in \"un texto más largo\":\n",
    "    print(\"contiene 'texto'\")"
   ]
  },
  {
   "cell_type": "markdown",
   "metadata": {},
   "source": [
    "___\n",
    "### Nada"
   ]
  },
  {
   "cell_type": "code",
   "execution_count": null,
   "metadata": {},
   "outputs": [],
   "source": [
    "nada = None\n",
    "print( nada )\n",
    "print( bool(nada) )"
   ]
  },
  {
   "cell_type": "markdown",
   "metadata": {},
   "source": [
    "___\n",
    "### Listas\n",
    "declarar una lista y acceder a un elemento de ella:"
   ]
  },
  {
   "cell_type": "code",
   "execution_count": null,
   "metadata": {},
   "outputs": [],
   "source": [
    "lista = [    \n",
    "    1,     \n",
    "    \"algo\",     \n",
    "    True,     \n",
    "    None\n",
    "]\n",
    "lista[1] = \"otro\"\n",
    "\n",
    "print( lista[0] )\n",
    "print( lista[1] )\n",
    "print( lista[2] )\n",
    "print( lista[3] )\n",
    "print( lista[-1] )\n",
    "print( lista[-2] )\n",
    "print( lista[-3] )\n",
    "print( lista[-4] )"
   ]
  },
  {
   "cell_type": "markdown",
   "metadata": {},
   "source": [
    "___\n",
    "longitud de una lista:"
   ]
  },
  {
   "cell_type": "code",
   "execution_count": null,
   "metadata": {},
   "outputs": [],
   "source": [
    "lista = [1, 4, 5, 56]\n",
    "\n",
    "print( len(lista) )"
   ]
  },
  {
   "cell_type": "markdown",
   "metadata": {},
   "source": [
    "___\n",
    "añadir un elemento a la lista:"
   ]
  },
  {
   "cell_type": "code",
   "execution_count": null,
   "metadata": {},
   "outputs": [],
   "source": [
    "lista = ['uno', 'dos']\n",
    "lista.append(var1)\n",
    "print(lista)"
   ]
  },
  {
   "cell_type": "markdown",
   "metadata": {},
   "source": [
    "___\n",
    "lista y condicionales:"
   ]
  },
  {
   "cell_type": "code",
   "execution_count": null,
   "metadata": {},
   "outputs": [],
   "source": [
    "lista_de_frutas = [\"manzana\", \"plátano\", \"cereza\"]\n",
    "\n",
    "if \"manzana\" in lista_de_frutas:\n",
    "    print(\"hay manzana\")\n",
    "\n",
    "if \"pera\" in lista_de_frutas:\n",
    "    print(\"no hay pera\")"
   ]
  },
  {
   "cell_type": "markdown",
   "metadata": {},
   "source": [
    "___\n",
    "hacer un bucle con una lista:"
   ]
  },
  {
   "cell_type": "code",
   "execution_count": null,
   "metadata": {},
   "outputs": [],
   "source": [
    "lista_de_frutas = [\"manzana\", \"plátano\", \"cereza\", \"pera\"]\n",
    "\n",
    "for fruta in lista_de_frutas:\n",
    "    print(fruta)"
   ]
  },
  {
   "cell_type": "markdown",
   "metadata": {},
   "source": [
    "___\n",
    "mezclar bucle y condicional:"
   ]
  },
  {
   "cell_type": "code",
   "execution_count": null,
   "metadata": {},
   "outputs": [],
   "source": [
    "for fruta in lista_de_frutas:\n",
    "    if fruta != \"cereza\":\n",
    "        print(fruta + \" no es cereza\")\n",
    "    else:\n",
    "        print('ya encontré cereza')\n",
    "        break"
   ]
  },
  {
   "cell_type": "markdown",
   "metadata": {},
   "source": [
    "___\n",
    "### Diccionarios"
   ]
  },
  {
   "cell_type": "code",
   "execution_count": null,
   "metadata": {},
   "outputs": [],
   "source": [
    "diccionario = {'key1': 'val1', 'key2': 'val2', 'key3': 'val3'}\n",
    "               \n",
    "print( diccionario['key2'] )\n",
    "print( diccionario.get('key') )\n",
    "print( diccionario.get('key4') )\n",
    "print( diccionario.get('key5', 'rwgwerh') )"
   ]
  },
  {
   "cell_type": "markdown",
   "metadata": {},
   "source": [
    "___\n",
    "modificar el valor de una entrada:"
   ]
  },
  {
   "cell_type": "code",
   "execution_count": null,
   "metadata": {},
   "outputs": [],
   "source": [
    "diccionario = {\"marca\": 'Ford', \"modelo\": \"Mustang\", \"año\": 1964,}\n",
    "diccionario[\"año\"] = 2018\n",
    "print(diccionario[\"año\"])"
   ]
  },
  {
   "cell_type": "markdown",
   "metadata": {},
   "source": [
    "___\n",
    "añadir entradas:"
   ]
  },
  {
   "cell_type": "code",
   "execution_count": null,
   "metadata": {},
   "outputs": [],
   "source": [
    "diccionario = {\n",
    "    \"marca\": \"Ford\",\n",
    "    \"modelo\": \"Mustang\",\n",
    "    \"año\": 1964,\n",
    "}\n",
    "print(diccionario)"
   ]
  },
  {
   "cell_type": "markdown",
   "metadata": {},
   "source": [
    "___\n",
    "## Funciones (Methods)\n",
    "___\n",
    "\n",
    "definir una función:"
   ]
  },
  {
   "cell_type": "code",
   "execution_count": null,
   "metadata": {},
   "outputs": [],
   "source": [
    "def mi_funcion(argumento1, argumento2):    \n",
    "    x = argumento1 + \"sdbe\"\n",
    "    print(f\"estos son mis argumentos: {x}, {argumento2}\")\n",
    "\n",
    "\n",
    "mi_funcion(var1, \"dos\")\n",
    "mi_funcion(argumento2=\"uno\", argumento1=\"dos\")"
   ]
  },
  {
   "cell_type": "markdown",
   "metadata": {},
   "source": [
    "___\n",
    "argumentos opcionales:"
   ]
  },
  {
   "cell_type": "code",
   "execution_count": null,
   "metadata": {},
   "outputs": [],
   "source": [
    "def mi_funcion(argumento=\"por defecto\", arg2=None):\n",
    "    print(f\"el valor del argumento es: {argumento}\")\n",
    "\n",
    "mi_funcion(\"uno\")\n",
    "mi_funcion()"
   ]
  },
  {
   "cell_type": "markdown",
   "metadata": {},
   "source": [
    "___\n",
    "retorno de una función:    "
   ]
  },
  {
   "cell_type": "code",
   "execution_count": null,
   "metadata": {},
   "outputs": [],
   "source": [
    "def mi_funcion(a):\n",
    "    var = [2, 3, 5]\n",
    "    return var\n",
    "\n",
    "print( mi_funcion(3) )"
   ]
  },
  {
   "cell_type": "markdown",
   "metadata": {},
   "source": [
    "___\n",
    "## Clases\n",
    "___\n",
    "definicion y uso de una clase:"
   ]
  },
  {
   "cell_type": "code",
   "execution_count": null,
   "metadata": {},
   "outputs": [],
   "source": [
    "class mi_clase:\n",
    "    atributo1 = \"uno\"\n",
    "    atributo2 = \"dos\"\n",
    "    \n",
    "    def metodo_suma(self, argumento1, argumento2):\n",
    "        return argumento1 + argumento2\n",
    "\n",
    "instancia_de_la_clase = mi_clase()\n",
    "\n",
    "print(instancia_de_la_clase.atributo1)\n",
    "print(instancia_de_la_clase.atributo2)\n",
    "\n",
    "print( instancia_de_la_clase.metodo_suma(1, 1) )"
   ]
  },
  {
   "cell_type": "markdown",
   "metadata": {},
   "source": [
    "___\n",
    "clase con constructor:"
   ]
  },
  {
   "cell_type": "code",
   "execution_count": null,
   "metadata": {},
   "outputs": [],
   "source": [
    "class mi_clase(object):\n",
    "    atributo1 = 1\n",
    "    atributo2 = 2\n",
    "    \n",
    "    def __init__(self, argumento1, argumento2):\n",
    "        self.atributo1 = argumento1\n",
    "        self.atributo2 = argumento2\n",
    "    \n",
    "    def metodo_suma_de_atributos(self):\n",
    "        return self.atributo1 + self.atributo2\n",
    "\n",
    "instancia_de_la_clase = mi_clase(3, 4)\n",
    "\n",
    "print( instancia_de_la_clase.metodo_suma_de_atributos() )"
   ]
  },
  {
   "cell_type": "markdown",
   "metadata": {},
   "source": [
    "___\n",
    "## Capturar Errores\n",
    "___\n",
    "defininir un código a ejecutar cuando se eleva una determinada exceción:"
   ]
  },
  {
   "cell_type": "code",
   "execution_count": null,
   "metadata": {},
   "outputs": [],
   "source": [
    "try:\n",
    "    1/0\n",
    "except ZeroDivisionError as e:\n",
    "    print(f'\"{e}\"')\n",
    "except Exception as e:\n",
    "    print(f'se produjo el siguiente error: \"{e}\"')\n",
    "finally:\n",
    "    print(\"esgwrg\")\n",
    "    \n",
    "        \n",
    "\n"
   ]
  },
  {
   "cell_type": "code",
   "execution_count": null,
   "metadata": {},
   "outputs": [],
   "source": []
  },
  {
   "cell_type": "code",
   "execution_count": null,
   "metadata": {},
   "outputs": [],
   "source": []
  }
 ],
 "metadata": {
  "kernelspec": {
   "display_name": "Python 3",
   "language": "python",
   "name": "python3"
  },
  "language_info": {
   "codemirror_mode": {
    "name": "ipython",
    "version": 3
   },
   "file_extension": ".py",
   "mimetype": "text/x-python",
   "name": "python",
   "nbconvert_exporter": "python",
   "pygments_lexer": "ipython3",
   "version": "3.8.8"
  }
 },
 "nbformat": 4,
 "nbformat_minor": 4
}