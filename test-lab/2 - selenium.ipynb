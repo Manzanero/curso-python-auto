{
 "cells": [
  {
   "cell_type": "markdown",
   "metadata": {},
   "source": [
    "# Módulos\n",
    "___\n",
    "importar módulos o una clase de un módulo:"
   ]
  },
  {
   "cell_type": "code",
   "execution_count": null,
   "metadata": {},
   "outputs": [],
   "source": [
    "import os\n",
    "\n",
    "print( os.name )  # atributo del módulo"
   ]
  },
  {
   "cell_type": "code",
   "execution_count": null,
   "metadata": {},
   "outputs": [],
   "source": [
    "import platform\n",
    "\n",
    "print( platform.system() )  # método del módulo"
   ]
  },
  {
   "cell_type": "code",
   "execution_count": null,
   "metadata": {},
   "outputs": [],
   "source": [
    "import configparser\n",
    "config = configparser.ConfigParser()  # clase del módulo\n",
    "\n",
    "# o\n",
    "from configparser import ConfigParser\n",
    "config = ConfigParser()\n",
    "\n",
    "# o\n",
    "from configparser import ConfigParser as Cp\n",
    "config = Cp()"
   ]
  },
  {
   "cell_type": "markdown",
   "metadata": {},
   "source": [
    "___\n",
    "Instalar un módulo (En JupyterLab poner `!` delante de la sentencia se ejecutará en la shell del sistema, no es código Python):"
   ]
  },
  {
   "cell_type": "code",
   "execution_count": null,
   "metadata": {},
   "outputs": [],
   "source": [
    "! pip install selenium --trusted-host pypi.python.org"
   ]
  },
  {
   "cell_type": "markdown",
   "metadata": {},
   "source": [
    "___\n",
    "Desinstalar un modulo:"
   ]
  },
  {
   "cell_type": "code",
   "execution_count": null,
   "metadata": {},
   "outputs": [],
   "source": [
    "# ! pip uninstall -y selenium"
   ]
  },
  {
   "cell_type": "markdown",
   "metadata": {},
   "source": [
    "___\n",
    "___\n",
    "# Selenium\n",
    "___\n",
    "## Ejemplo práctico"
   ]
  },
  {
   "cell_type": "markdown",
   "metadata": {},
   "source": [
    "importamos librerías clave:"
   ]
  },
  {
   "cell_type": "code",
   "execution_count": null,
   "metadata": {
    "scrolled": true
   },
   "outputs": [],
   "source": [
    "from selenium import webdriver  # hay que haber ejecutado `pip install selenium` para que funcione la importación"
   ]
  },
  {
   "cell_type": "markdown",
   "metadata": {},
   "source": [
    "___\n",
    "levantamos el explorador:\n",
    "\n",
    "Deberá estar presente en la misma carpeta que este documento el driver (descomprimido como .exe) de la versión del navegador que queramos automatizar"
   ]
  },
  {
   "cell_type": "code",
   "execution_count": null,
   "metadata": {},
   "outputs": [],
   "source": [
    "driver = webdriver.Chrome()\n",
    "# driver = webdriver.Ie()  # Internet explorer\n",
    "driver.get(\"http://www.python.org\")"
   ]
  },
  {
   "cell_type": "markdown",
   "metadata": {},
   "source": [
    "___\n",
    "comprobación de texto en el título:"
   ]
  },
  {
   "cell_type": "code",
   "execution_count": null,
   "metadata": {},
   "outputs": [],
   "source": [
    "print(driver.title)\n",
    "assert \"Python\" in driver.title"
   ]
  },
  {
   "cell_type": "markdown",
   "metadata": {},
   "source": [
    "___\n",
    "capturar un elemento de la web:\n",
    "\n",
    "orden de preferencia: 1.- id | 2.- name | 3.- css selector | 4.- xpath"
   ]
  },
  {
   "cell_type": "code",
   "execution_count": null,
   "metadata": {},
   "outputs": [],
   "source": [
    "tbx__search = driver.find_element_by_id(\"id-search-field\") \n",
    "\n",
    "## otras formas de identificación:\n",
    "\n",
    "# tbx__search = driver.find_element_by_name(\"q\") \n",
    "\n",
    "# tbx__search = driver.find_element_by_css_selector(\"input#id-search-field\") \n",
    "# tbx__search = driver.find_element_by_css_selector(\"input.search-field\") \n",
    "# tbx__search = driver.find_element_by_css_selector(\"input[placeholder='Search']\") \n",
    "# tbx__search = driver.find_element_by_css_selector(\"input#id-search-field.search-field[placeholder='Search']\") \n",
    "\n",
    "# tbx__search = driver.find_element_by_css_selector(\"input[placeholder^='Sea']\") \n",
    "# tbx__search = driver.find_element_by_css_selector(\"input[placeholder$='arch']\") \n",
    "# tbx__search = driver.find_element_by_css_selector(\"input[placeholder*='ear']\") \n",
    "\n",
    "# tbx__search = driver.find_element_by_xpath(\"//input[@placeholder='Search']\") "
   ]
  },
  {
   "cell_type": "markdown",
   "metadata": {},
   "source": [
    "Cundo el identificador no es único se puede coger una lista de elementos con el siguiente método:"
   ]
  },
  {
   "cell_type": "code",
   "execution_count": null,
   "metadata": {},
   "outputs": [],
   "source": [
    "lista_de_elementos = driver.find_elements_by_css_selector(\"input#id-search-field\")  # devuelve un lista\n",
    "tbx__search = lista_de_elementos[0]  # en este caso es 0 porque queremos el primero, pondríamos 1 si fuera el segundo, etc."
   ]
  },
  {
   "cell_type": "markdown",
   "metadata": {},
   "source": [
    "___\n",
    "escribir en el buscador y pulsar Enter:"
   ]
  },
  {
   "cell_type": "code",
   "execution_count": null,
   "metadata": {},
   "outputs": [],
   "source": [
    "tbx__search = driver.find_element_by_id(\"id-search-field\") \n",
    "tbx__search.clear()\n",
    "tbx__search.send_keys(\"no va a haber resultados para esta frase\")\n",
    "\n",
    "from selenium.webdriver.common.keys import Keys  # con esta línea importamos la clase Keys de selenium, que nos hará fata a continuación\n",
    "\n",
    "tbx__search.send_keys(Keys.RETURN)  # pulsar Enter"
   ]
  },
  {
   "cell_type": "markdown",
   "metadata": {},
   "source": [
    "escribir en el buscador y clicar en 'go':"
   ]
  },
  {
   "cell_type": "code",
   "execution_count": null,
   "metadata": {},
   "outputs": [],
   "source": [
    "tbx__search = driver.find_element_by_id(\"id-search-field\") \n",
    "tbx__search.clear()\n",
    "tbx__search.send_keys(\"tampoco va a haber resultados para esta frase\")\n",
    "\n",
    "btn__go = driver.find_element_by_id(\"submit\") \n",
    "btn__go.click()"
   ]
  },
  {
   "cell_type": "markdown",
   "metadata": {},
   "source": [
    "___\n",
    "más comprobaciones:"
   ]
  },
  {
   "cell_type": "code",
   "execution_count": null,
   "metadata": {},
   "outputs": [],
   "source": [
    "print( driver.page_source[:500] )\n",
    "print(\"···\")\n",
    "assert \"No results found.\" in driver.page_source"
   ]
  },
  {
   "cell_type": "code",
   "execution_count": null,
   "metadata": {},
   "outputs": [],
   "source": [
    "txt__results = driver.find_element_by_css_selector(\"#content > div > section > form > ul > p\")\n",
    "print(txt__results.text)\n",
    "assert \"No results found.\" in txt__results.text\n"
   ]
  },
  {
   "cell_type": "markdown",
   "metadata": {},
   "source": [
    "___\n",
    "cerrar el navegador:"
   ]
  },
  {
   "cell_type": "code",
   "execution_count": null,
   "metadata": {},
   "outputs": [],
   "source": [
    "driver.close()"
   ]
  },
  {
   "cell_type": "markdown",
   "metadata": {},
   "source": [
    "___\n",
    "## Page objects"
   ]
  },
  {
   "cell_type": "code",
   "execution_count": null,
   "metadata": {},
   "outputs": [],
   "source": [
    "class PortalPage(object):\n",
    "    \n",
    "    # constructor\n",
    "    def __init__(self, driver):\n",
    "        self.driver = driver\n",
    "        \n",
    "    # elementos\n",
    "    def tbx__search(self):\n",
    "        return self.driver.find_element_by_id(\"id-search-field\") \n",
    "\n",
    "    def btn__go(self):\n",
    "        return driver.find_element_by_id(\"submit\") \n",
    "    \n",
    "    # métodos    \n",
    "    def get(self):\n",
    "        driver.get(\"http://www.python.org\")\n",
    "        return self\n",
    "    \n",
    "    def search(self, text):\n",
    "        tbx__search = self.tbx__search()\n",
    "        tbx__search.clear()\n",
    "        tbx__search.send_keys(text)\n",
    "\n",
    "        btn__go = self.btn__go()\n",
    "        btn__go.click()\n",
    "        \n",
    "    \n",
    "class ResultsPage(object):\n",
    "    \n",
    "    def __init__(self, driver):\n",
    "        self.driver = driver\n",
    "        \n",
    "    def txt__results(self):\n",
    "        return self.driver.find_element_by_css_selector(\"#content > div > section > form > ul > p\")\n",
    "    \n",
    "    def assert_no_results_visible(self):\n",
    "        txt__results = self.txt__results()\n",
    "        assert txt__results.is_displayed()\n",
    "        assert \"No results found.\" in txt__results.text\n",
    "        print(\"No results found.\")"
   ]
  },
  {
   "cell_type": "code",
   "execution_count": null,
   "metadata": {},
   "outputs": [],
   "source": [
    "driver = webdriver.Chrome()\n",
    "\n",
    "try:\n",
    "    page__portal = PortalPage(driver).get()\n",
    "    page__portal.search(\"algo que no existe\")\n",
    "\n",
    "    page__results = ResultsPage(driver)\n",
    "    page__results.assert_no_results_visible()\n",
    "    \n",
    "finally:\n",
    "    import time\n",
    "    time.sleep(3)  # esto es para que no se cierre la ventana de golpe, el argumento es el nº de segundos a esperar\n",
    "    \n",
    "    driver.close()"
   ]
  },
  {
   "cell_type": "code",
   "execution_count": null,
   "metadata": {},
   "outputs": [],
   "source": [
    "driver = webdriver.Chrome()\n",
    "\n",
    "try:\n",
    "    driver.get(\"http://www.python.org\")\n",
    "    \n",
    "    # Portal\n",
    "    page__portal = PortalPage(driver)\n",
    "    \n",
    "    tbx__search = page__portal.tbx__search()\n",
    "    tbx__search.clear()\n",
    "    tbx__search.send_keys(\"algo que no existe\")\n",
    "\n",
    "    page__portal.btn__go().click()\n",
    "    \n",
    "    # Results\n",
    "    assert \"No results found.\" in ResultsPage(driver).txt__results().text\n",
    "    print(\"No results found.\")\n",
    "    \n",
    "finally:\n",
    "    import time\n",
    "    time.sleep(3)\n",
    "    \n",
    "    driver.close()"
   ]
  },
  {
   "cell_type": "markdown",
   "metadata": {},
   "source": [
    "___\n",
    "## Ejercicio\n",
    "\n",
    "dada esta web (http://the-internet.herokuapp.com/login), crear debajo un script que habrá la página se loguee y luego desloguee (incluyendo asserciones). Intentad usar Page Objects:"
   ]
  },
  {
   "cell_type": "code",
   "execution_count": 1,
   "metadata": {},
   "outputs": [],
   "source": [
    "from selenium import webdriver\n",
    "driver = webdriver.Ie()\n",
    "driver.get(\"http://the-internet.herokuapp.com/login\")\n",
    "tbx__search = driver.find_element_by_name(\"username\")\n",
    "tbx__search.send_keys(\"tomsmith\")\n",
    "tbx__search = driver.find_element_by_name(\"password\")\n",
    "tbx__search.send_keys(\"SuperSecretPassword!\")\n",
    "btn__login = driver.find_element_by_css_selector(\"#login > button > i\")\n",
    "btn__login.click()\n",
    "btn__logout = driver.find_element_by_css_selector(\"#content > div > a > i\")\n",
    "btn__logout.click()\n",
    "driver.close()"
   ]
  },
  {
   "cell_type": "code",
   "execution_count": 3,
   "metadata": {},
   "outputs": [],
   "source": [
    "from selenium import webdriver\n",
    "from selenium.webdriver.common.keys import Keys\n",
    "\n",
    "class Portal(object):\n",
    "    \n",
    "    def __init__(self, driver):\n",
    "        self.driver = driver\n",
    "        \n",
    "    def get(self):\n",
    "        driver.get(\"https://the-internet.herokuapp.com/login\")\n",
    "        return self\n",
    "        \n",
    "    def tbx__username(self):\n",
    "        return self.driver.find_element_by_id(\"username\")\n",
    "        \n",
    "    def tbx__password(self):\n",
    "        return self.driver.find_element_by_id(\"password\")\n",
    "    \n",
    "    def login(self, username, password):\n",
    "        tbx__username = self.tbx__username()\n",
    "        tbx__username.clear()\n",
    "        tbx__username.send_keys(username)\n",
    "        \n",
    "        tbx__password = self.tbx__password()\n",
    "        tbx__password.clear()\n",
    "        tbx__password.send_keys(password)\n",
    "        \n",
    "        tbx__password.send_keys(Keys.RETURN)\n",
    "        \n",
    "        \n",
    "class SecureArea(object):\n",
    "    \n",
    "    def __init__(self, driver):\n",
    "        self.driver = driver\n",
    "        \n",
    "    def btn__logout(self):\n",
    "        return self.driver.find_element_by_xpath(\"//*[@id='content']/div/a\") \n",
    "    \n",
    "    def assert_page_loaded(self):\n",
    "        btn__logout = self.btn__logout()\n",
    "        assert btn__logout.is_displayed()\n",
    "\n",
    "\n",
    "driver = webdriver.Chrome()\n",
    "\n",
    "page__portal = Portal(driver).get()\n",
    "page__portal.login(\"tomsmith\", \"SuperSecretPassword!\")\n",
    "\n",
    "page__secure_area = SecureArea(driver)\n",
    "page__secure_area.assert_page_loaded()\n",
    "page__secure_area.btn__logout().click()\n",
    "\n",
    "driver.close()\n"
   ]
  },
  {
   "cell_type": "code",
   "execution_count": null,
   "metadata": {},
   "outputs": [],
   "source": []
  }
 ],
 "metadata": {
  "kernelspec": {
   "display_name": "Python 3",
   "language": "python",
   "name": "python3"
  },
  "language_info": {
   "codemirror_mode": {
    "name": "ipython",
    "version": 3
   },
   "file_extension": ".py",
   "mimetype": "text/x-python",
   "name": "python",
   "nbconvert_exporter": "python",
   "pygments_lexer": "ipython3",
   "version": "3.7.4"
  }
 },
 "nbformat": 4,
 "nbformat_minor": 4
}
