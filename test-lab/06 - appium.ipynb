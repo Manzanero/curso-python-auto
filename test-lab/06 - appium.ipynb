{
 "cells": [
  {
   "cell_type": "markdown",
   "metadata": {},
   "source": [
    "# Capítulo 6 - Uso de Appium para automatizar acciones en dispositivos\n",
    "___\n",
    "## Conectar un dispositivo\n",
    "___\n",
    "### Pasos comunes\n",
    "Para conectar un dispositivo de Android hay que seguir los siguientes pasos:\n",
    "1. Descargar e instalar Java jdk 1.21: https://www.oracle.com/java/technologies/javase/jdk21-archive-downloads.html\n",
    "2. Añadir la variable de entorno JAVA_HOME = \"C:\\Program Files\\Java\\jdk {version} \"\n",
    "3. Descargar e instalar Android Studio: https://developer.android.com/studio\n",
    "4. Iniciar Android Studio y aceptar todo para que descarge el sdk de Android\n",
    "5. Añadir la variable de entorno ANDROID_HOME = \"C:\\Users\\\\ {user} \\AppData\\Local\\Android\\Sdk\\\"\n",
    "6. Añadir el directorio \"C:\\Users\\\\ {user} \\AppData\\Local\\Android\\Sdk\\platform-tools\\\" al Path de Windows\n",
    "\n",
    "#### Emulador\n",
    "Para crear un emulador hay que seguir los siguientes pasos:\n",
    "1. Lanzar Android Studio, si pide crear un proyecto se crea un vacío (que no usaremos para nada)\n",
    "2. Dejar que se actualice con las actualizaciones por defecto (puede variar dependiendo de la versión)\n",
    "3. Ir a \"Tools\" > \"AVD Manager\"\n",
    "4. CLick en \"Create Virtual Device\".\n",
    "5. Seleccionar \"Phone\" > \"Nexus 5X\", \"Next\"\n",
    "6. Seleccionar \"Oreo\" (API Level 27, Android 8.1), si no está disponible click en descargar, \"Next\"\n",
    "7. Nombrar y \"Finish\"\n",
    "\n",
    "#### Real\n",
    "Para conectar un dispositivo real hay que seguir los siguientes pasos (No todos los dispositivos son compatibles):\n",
    "1. En el dispositivo: Ir a \"Settings\" > \"About phone\" > \"Software information\" y pulsar \"Build number\" 7 veces, esto activa el modo \"desarrollador\" (puede variar según el modelo del dispositivo)\n",
    "2. En el dispositivo: Ir a \"Settings\" > \"Developer options\" y activar \"Stay awake\" y \"USB debugging\" (puede variar según el modelo del dispositivo)\n",
    "3. Conectar por USB y aceptar permisos\n",
    "\n",
    "para compartir la pantalla del movil en el ordenador existe este software:\n",
    "\n",
    "https://github.com/Genymobile/scrcpy/blob/master/doc/windows.md\n",
    "\n",
    "descargar el .zip y ejecutar scrcpy.exe\n",
    "\n",
    "### Comprobar la conexión\n",
    "Par comprobar que todo funciona correctamente ejecutar:"
   ]
  },
  {
   "cell_type": "code",
   "execution_count": null,
   "metadata": {},
   "outputs": [],
   "source": [
    "! adb devices"
   ]
  },
  {
   "cell_type": "markdown",
   "metadata": {},
   "source": [
    "debería aparecer el nombre del dispositio seguido de \"device\":\n",
    "\n",
    "```\n",
    "List of devices attached\n",
    "LRINFIZPPN7TYHUC\tdevice\n",
    "```"
   ]
  },
  {
   "cell_type": "markdown",
   "metadata": {},
   "source": [
    "## Levantar un servidor de Appium en local\n",
    "___\n",
    "1. Descargar e instalar Node.js: https://nodejs.org/es/download\n",
    "2. Abrir un terminar cmd y ejecutar: `npm i --location=global appium`\n",
    "3. Instalar el driver para automatizar: `Android appium driver install uiautomator2`\n",
    "4. Para levantar el servidor appium ejecutar: `appium`\n",
    "5. Dejar el terminal abierto hasta finalizar"
   ]
  },
  {
   "cell_type": "markdown",
   "metadata": {},
   "source": [
    "## Crear un script con el cliente de Appium para Python\n",
    "___\n",
    "Se instalan los sdk's de Appium para Python:"
   ]
  },
  {
   "cell_type": "code",
   "execution_count": null,
   "metadata": {
    "scrolled": true
   },
   "outputs": [],
   "source": [
    "! pip install Appium-Python-Client"
   ]
  },
  {
   "cell_type": "markdown",
   "metadata": {},
   "source": [
    "Importamos la librería:"
   ]
  },
  {
   "cell_type": "markdown",
   "metadata": {},
   "source": [
    "## Obtener los localizadores de objectos manualmente\n",
    "___\n",
    "1. [Descargar Appium-Inspector-windows-{última versión}.exe](https://github.com/appium/appium-inspector/releases) e iniciarlo\n",
    "2. Rellenar la tabla con los valores:\n",
    "\n",
    "Name | Type | Value\n",
    "-----|------|------\n",
    "platformName | text | Android\n",
    "automationName | text | UiAutomator2\n",
    "app | text | {ruta absoluta al}\\example.apk\n",
    "\n",
    "3. Pulsar en \"Start Session\"\n",
    "\n",
    "Se abrirá una ventana que es similar a pulsar F12 en Chrome"
   ]
  },
  {
   "cell_type": "code",
   "execution_count": null,
   "metadata": {},
   "outputs": [],
   "source": [
    "from appium import webdriver\n",
    "from appium.options.common.base import AppiumOptions\n",
    "from appium.webdriver.common.appiumby import AppiumBy\n",
    "import os"
   ]
  },
  {
   "cell_type": "code",
   "execution_count": null,
   "metadata": {},
   "outputs": [],
   "source": [
    "options = AppiumOptions()\n",
    "\n",
    "# Add desired capabilities to chrome_options\n",
    "options.set_capability('platformName', 'Android')\n",
    "options.set_capability('automationName', 'UiAutomator2')\n",
    "options.set_capability('app', os.path.join(os.getcwd(), 'example.apk'))  # Path to the example APK\n",
    "\n",
    "driver = webdriver.Remote('http://localhost:4723', options=options)"
   ]
  },
  {
   "cell_type": "code",
   "execution_count": null,
   "metadata": {},
   "outputs": [],
   "source": [
    "button1 = driver.find_element(AppiumBy.XPATH, '//android.view.ViewGroup[@content-desc=\"Biometric authentication\"]')\n",
    "button1.click()\n",
    "button2 = driver.find_element(AppiumBy.XPATH, '//android.widget.TextView[@text=\"FORCE PASS CALLBACK\"]')\n",
    "button2.click()\n",
    "result1 = driver.find_element(AppiumBy.XPATH, '//android.widget.TextView[@content-desc=\"Authentication status value\"]')\n",
    "result2 = driver.find_element(AppiumBy.XPATH, '//*[@text=\"SUCCEEDED\"]')\n",
    "\n",
    "assert result1.text == \"SUCCEEDED\"\n",
    "assert result2.is_displayed()"
   ]
  },
  {
   "cell_type": "code",
   "execution_count": null,
   "metadata": {},
   "outputs": [],
   "source": [
    "driver.quit()"
   ]
  },
  {
   "cell_type": "code",
   "execution_count": null,
   "metadata": {},
   "outputs": [],
   "source": []
  }
 ],
 "metadata": {
  "kernelspec": {
   "display_name": "Python 3 (ipykernel)",
   "language": "python",
   "name": "python3"
  },
  "language_info": {
   "codemirror_mode": {
    "name": "ipython",
    "version": 3
   },
   "file_extension": ".py",
   "mimetype": "text/x-python",
   "name": "python",
   "nbconvert_exporter": "python",
   "pygments_lexer": "ipython3",
   "version": "3.12.3"
  }
 },
 "nbformat": 4,
 "nbformat_minor": 4
}
