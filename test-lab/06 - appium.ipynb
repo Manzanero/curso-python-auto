{
 "cells": [
  {
   "cell_type": "markdown",
   "metadata": {},
   "source": [
    "# Capítulo 6 - Uso de Appium para automatizar acciones en dispositivos\n",
    "___\n",
    "## Conectar un dispositivo\n",
    "___\n",
    "### Pasos comunes\n",
    "Para conectar un dispositivo de Android hay que seguir los siguientes pasos:\n",
    "1. Descargar e instalar Java jdk 1.11: https://www.oracle.com/java/technologies/javase/jdk11-archive-downloads.html\n",
    "2. Añadir la variable de entorno JAVA_HOME = \"C:\\Program Files\\Java\\jdk {version} \"\n",
    "3. Descargar e instalar Android Studio: https://developer.android.com/studio\n",
    "4. Añadir la variable de entorno ANDROID_HOME = \"C:\\Users\\\\ {user} \\AppData\\Local\\Android\\Sdk\\\"\n",
    "5. Añadir el directorio \"C:\\Users\\\\ {user} \\AppData\\Local\\Android\\Sdk\\platform-tools\\\" al Path de Windows\n",
    "\n",
    "#### Emulador\n",
    "Para crear un emulador hay que seguir los siguientes pasos:\n",
    "1. Lanzar Android Studio, si pide crear un proyecto se crea un vacío (que no usaremos para nada)\n",
    "2. Dejar que se actualice con las actualizaciones por defecto (puede variar dependiendo de la versión)\n",
    "3. Ir a \"Tools\" > \"AVD Manager\"\n",
    "4. CLick en \"Create Virtual Device\".\n",
    "5. Seleccionar \"Phone\" > \"Nexus 5X\", \"Next\"\n",
    "6. Seleccionar \"Oreo\" (API Level 27, Android 8.1), si no está disponible click en descargar, \"Next\"\n",
    "7. Nombrar y \"Finish\"\n",
    "\n",
    "#### Real\n",
    "Para conectar un dispositivo real hay que seguir los siguientes pasos (No todos los dispositivos son compatibles):\n",
    "1. En el dispositivo: Ir a \"Settings\" > \"About phone\" > \"Software information\" y pulsar \"Build number\" 7 veces, esto activa el modo \"desarrollador\" (puede variar según el modelo del dispositivo)\n",
    "2. En el dispositivo: Ir a \"Settings\" > \"Developer options\" y activar \"Stay awake\" y \"USB debugging\" (puede variar según el modelo del dispositivo)\n",
    "3. Conectar por USB y aceptar permisos\n",
    "\n",
    "### Comprobar la conexión\n",
    "Par comprobar que todo funciona correctamente ejecutar:"
   ]
  },
  {
   "cell_type": "code",
   "execution_count": null,
   "metadata": {},
   "outputs": [],
   "source": [
    "! adb devices"
   ]
  },
  {
   "cell_type": "markdown",
   "metadata": {},
   "source": [
    "debería aparecer el nombre del dispositio seguido de \"device\":\n",
    "\n",
    "```\n",
    "List of devices attached\n",
    "LRINFIZPPN7TYHUC\tdevice\n",
    "```"
   ]
  },
  {
   "cell_type": "markdown",
   "metadata": {},
   "source": [
    "## Levantar un servidor de Appium en local\n",
    "___\n",
    "1. Descargar e instalar Appium-Desktop: https://github.com/appium/appium-desktop/releases/\n",
    "2. Iniciar Appium (tarda)\n",
    "3. Poner Host: 0.0.0.0 y Puerto: 4723, pulsar \"Start Server\""
   ]
  },
  {
   "cell_type": "markdown",
   "metadata": {},
   "source": [
    "## Crear un script con el cliente de Appium para Python\n",
    "___\n",
    "Se instalan los sdk's de Appium para Python:"
   ]
  },
  {
   "cell_type": "code",
   "execution_count": null,
   "metadata": {},
   "outputs": [],
   "source": [
    "! pip install Appium-Python-Client"
   ]
  },
  {
   "cell_type": "markdown",
   "metadata": {},
   "source": [
    "Importamos la librería:"
   ]
  },
  {
   "cell_type": "code",
   "execution_count": null,
   "metadata": {},
   "outputs": [],
   "source": [
    "from appium import webdriver"
   ]
  },
  {
   "cell_type": "code",
   "execution_count": null,
   "metadata": {},
   "outputs": [],
   "source": [
    "import os\n",
    "\n",
    "desired_caps = {}\n",
    "desired_caps['platformName'] = 'Android'\n",
    "desired_caps['deviceName'] = 'Android Emulator'\n",
    "desired_caps['app'] = os.path.join(os.getcwd(), 'example.apk')  # ruta a una apk de ejemplo\n",
    "\n",
    "driver = webdriver.Remote('http://localhost:4723/wd/hub', desired_caps)"
   ]
  },
  {
   "cell_type": "code",
   "execution_count": null,
   "metadata": {},
   "outputs": [],
   "source": []
  },
  {
   "cell_type": "code",
   "execution_count": null,
   "metadata": {},
   "outputs": [],
   "source": [
    "from appium.webdriver.common.mobileby import MobileBy\n",
    "\n",
    "add = driver.find_element(MobileBy.ACCESSIBILITY_ID, \"Add Contact\")\n",
    "add.click()\n",
    "\n",
    "\n",
    "import time\n",
    "time.sleep(1)\n",
    "\n",
    "driver.find_element(MobileBy.ID, \"com.example.android.contactmanager:id/contactNameEditText\").send_keys('Alejandro')\n",
    "driver.find_element(MobileBy.ID, \"com.example.android.contactmanager:id/contactPhoneEditText\").send_keys('987654321')"
   ]
  },
  {
   "cell_type": "code",
   "execution_count": null,
   "metadata": {},
   "outputs": [],
   "source": [
    "driver.quit()"
   ]
  },
  {
   "cell_type": "markdown",
   "metadata": {},
   "source": [
    "## Obtener los localizadores de objectos manualmente\n",
    "___\n",
    "1. [Descargar Appium-Inspector-windows-{última versión}.exe](https://github.com/appium/appium-inspector/releases) e iniciarlo\n",
    "2. Rellenar la tabla con los valores:\n",
    "\n",
    "Name | Type | Value\n",
    "-----|------|------\n",
    "platformName | text | Android\n",
    "deviceName | text | Android Emulator\n",
    "app | text | {ruta absoluta al}\\example.apk\n",
    "\n",
    "3. Pulsar en \"Start Session\"\n",
    "\n",
    "Se abrirá una ventana que es similar a pulsar F12 en Chrome"
   ]
  },
  {
   "cell_type": "code",
   "execution_count": null,
   "metadata": {},
   "outputs": [],
   "source": []
  }
 ],
 "metadata": {
  "kernelspec": {
   "display_name": "Python 3",
   "language": "python",
   "name": "python3"
  },
  "language_info": {
   "codemirror_mode": {
    "name": "ipython",
    "version": 3
   },
   "file_extension": ".py",
   "mimetype": "text/x-python",
   "name": "python",
   "nbconvert_exporter": "python",
   "pygments_lexer": "ipython3",
   "version": "3.8.8"
  }
 },
 "nbformat": 4,
 "nbformat_minor": 4
}
