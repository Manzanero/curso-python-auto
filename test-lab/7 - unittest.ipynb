{
 "cells": [
  {
   "cell_type": "markdown",
   "metadata": {},
   "source": [
    "# Capítulo 7 - Uso de Unittest para crear pruebas unitarias\n",
    "___\n",
    "## Unittest\n",
    "___\n",
    "Para realizar pruebas unitarias de nuestro código usaremos `unittest` (ya está incluido de base), ejemplo de uso:"
   ]
  },
  {
   "cell_type": "code",
   "execution_count": null,
   "metadata": {},
   "outputs": [],
   "source": [
    "import unittest\n",
    "\n",
    "# el método que quiero probar\n",
    "def suma(a, b):\n",
    "    return a + b\n",
    "\n",
    "\n",
    "class TestSuma(unittest.TestCase):\n",
    "\n",
    "    def test_sum_all_positive(self):\n",
    "        resultado = suma(1, 2)\n",
    "        self.assertEqual(resultado, 3)\n",
    "\n",
    "    def test_sum_some_negative(self):\n",
    "        resultado = suma(1, -2)\n",
    "        self.assertEqual(resultado, -1)\n",
    "        \n",
    "        \n",
    "if __name__ == '__main__':\n",
    "    # unittest.main()\n",
    "    unittest.main(argv=['first-arg-is-ignored'], exit=False)  # en jupyter solo funciona poniéndolo así"
   ]
  },
  {
   "cell_type": "markdown",
   "metadata": {},
   "source": [
    "### Mocks\n",
    "___\n",
    "Supongamos que creamos una clase con un método:"
   ]
  },
  {
   "cell_type": "code",
   "execution_count": null,
   "metadata": {},
   "outputs": [],
   "source": [
    "import unittest\n",
    "from mock import patch\n",
    "from datetime import datetime\n",
    "import win32timezone  # librería externa de la que voy a usar un método\n",
    "\n",
    "\n",
    "# clase a probar\n",
    "class Reloj(object):\n",
    "    \n",
    "    def da_la_hora(self):\n",
    "        \"\"\"\n",
    "        Devuelve la hora como texto en el formato \"HH:MM:SS\"\n",
    "        \"\"\"\n",
    "        hora = win32timezone.now()  # método externo que va a ser mockeado\n",
    "        return hora.strftime(\"%H:%M:%S\")\n",
    "    \n",
    "print('Hora actual:', win32timezone.now())\n",
    "        \n",
    "\n",
    "# mock para un método que no es mío\n",
    "def mock_now():\n",
    "    hora_fijada = '2020-01-01 16:30:30.000000'\n",
    "    return datetime.strptime(hora_fijada, '%Y-%m-%d %H:%M:%S.%f')\n",
    "        \n",
    "print('Hora mock:', mock_now())\n",
    "\n",
    "\n",
    "# pruebas unitarias de la clase\n",
    "class TestReloj(unittest.TestCase):\n",
    "\n",
    "    @patch('win32timezone.now', side_effect=mock_now)\n",
    "    def test_reloj_da_la_hora(self, mocked_now):\n",
    "        reloj = Reloj()\n",
    "        self.assertEqual(reloj.da_la_hora(), '16:30:30')\n",
    "        \n",
    "        \n",
    "if __name__ == '__main__':\n",
    "    # unittest.main()\n",
    "    unittest.main(argv=['first-arg-is-ignored'], exit=False)  # en jupyter solo funciona poniéndolo así"
   ]
  },
  {
   "cell_type": "markdown",
   "metadata": {},
   "source": []
  }
 ],
 "metadata": {
  "kernelspec": {
   "display_name": "Python 3",
   "language": "python",
   "name": "python3"
  },
  "language_info": {
   "codemirror_mode": {
    "name": "ipython",
    "version": 3
   },
   "file_extension": ".py",
   "mimetype": "text/x-python",
   "name": "python",
   "nbconvert_exporter": "python",
   "pygments_lexer": "ipython3",
   "version": "3.8.8"
  }
 },
 "nbformat": 4,
 "nbformat_minor": 4
}
