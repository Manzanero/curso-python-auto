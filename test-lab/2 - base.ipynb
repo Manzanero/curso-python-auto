{
 "cells": [
  {
   "cell_type": "markdown",
   "metadata": {},
   "source": [
    "# Capítulo 2 - Conceptos básicos de programación orientada a objetos\n",
    "___\n",
    "### Index\n",
    "- [Variables](#Variables)\n",
    "- [Condicionales](#Condicionales)\n",
    "- [Listas](#Listas)\n",
    "- [Bucles](#Bucles)\n",
    "- [Diccionarios](#Diccionarios)\n",
    "- [Funciones](#Funciones-(Methods))\n",
    "- [Clases](#Clases)\n",
    "- [Capturar Errores](#Capturar-Errores)\n",
    "- [Inputs](#Inputs)\n",
    "- [Módulos](#Módulos)\n",
    "- [JSON](#JSON)\n",
    "- [Bloque with](#Bloque-with)\n",
    "- [Decoradores](#Decoradores)"
   ]
  },
  {
   "cell_type": "markdown",
   "metadata": {},
   "source": [
    "## Variables\n",
    "___\n",
    "### cadenas de texto (strings)\n",
    "declarar el valor `value1` a la variable `var1`:"
   ]
  },
  {
   "cell_type": "code",
   "execution_count": null,
   "metadata": {},
   "outputs": [],
   "source": [
    "var1 = 'value1'\n",
    "var2 = \"value2\""
   ]
  },
  {
   "cell_type": "markdown",
   "metadata": {},
   "source": [
    "mostrar el valor de la variable `var1`: (clicar el cuadrado de abajo y pulsar `shit + enter` evalua el bloque)"
   ]
  },
  {
   "cell_type": "code",
   "execution_count": null,
   "metadata": {},
   "outputs": [],
   "source": [
    "print(var1)"
   ]
  },
  {
   "cell_type": "markdown",
   "metadata": {},
   "source": [
    "anexar una cadena de texto a otra:"
   ]
  },
  {
   "cell_type": "code",
   "execution_count": null,
   "metadata": {},
   "outputs": [],
   "source": [
    "var2 = ' and more'\n",
    "var3 = var1 + var2\n",
    "\n",
    "print(var3)"
   ]
  },
  {
   "cell_type": "markdown",
   "metadata": {},
   "source": [
    "dar formato a una cadena de texto:"
   ]
  },
  {
   "cell_type": "code",
   "execution_count": null,
   "metadata": {},
   "outputs": [],
   "source": [
    "a = \"una\"\n",
    "b = \"otra\"\n",
    "\n",
    "print( f'{a} y {b}' )"
   ]
  },
  {
   "cell_type": "markdown",
   "metadata": {},
   "source": [
    "guardar como texto un salto de línea:"
   ]
  },
  {
   "cell_type": "code",
   "execution_count": null,
   "metadata": {},
   "outputs": [],
   "source": [
    "multi = \"\"\"una línea\n",
    "           otra línea\n",
    "           última línea\"\"\"\n",
    "\n",
    "print(multi)"
   ]
  },
  {
   "cell_type": "markdown",
   "metadata": {},
   "source": [
    "pero también se pueden se puede poner como `\\n`:"
   ]
  },
  {
   "cell_type": "code",
   "execution_count": null,
   "metadata": {},
   "outputs": [],
   "source": [
    "multi = \"una línea\\notra línea\\núltima línea\"\"\"\n",
    "\n",
    "print(multi)"
   ]
  },
  {
   "cell_type": "markdown",
   "metadata": {},
   "source": [
    "No se puede hacer referencia a una variable sin declarar antes su valor, hacerlo elevará un error de tipo `NameError`:"
   ]
  },
  {
   "cell_type": "code",
   "execution_count": null,
   "metadata": {},
   "outputs": [],
   "source": [
    "print(var0)"
   ]
  },
  {
   "cell_type": "markdown",
   "metadata": {},
   "source": [
    "escribir un comentario:"
   ]
  },
  {
   "cell_type": "code",
   "execution_count": null,
   "metadata": {},
   "outputs": [],
   "source": [
    "# print('esto no se evalúa')\n",
    "print('esto sí')  # esto no se evalúa"
   ]
  },
  {
   "cell_type": "markdown",
   "metadata": {},
   "source": [
    "sentencia vacía:"
   ]
  },
  {
   "cell_type": "code",
   "execution_count": null,
   "metadata": {},
   "outputs": [],
   "source": [
    "pass"
   ]
  },
  {
   "cell_type": "markdown",
   "metadata": {},
   "source": [
    "### Números"
   ]
  },
  {
   "cell_type": "code",
   "execution_count": null,
   "metadata": {},
   "outputs": [],
   "source": [
    "x = 2     # int\n",
    "y = 3.14  # float\n",
    "\n",
    "print('suma:', x + y)\n",
    "print('resta:', x - y)\n",
    "print('multiplicación:', x * y)\n",
    "print('división:', x / y)"
   ]
  },
  {
   "cell_type": "markdown",
   "metadata": {},
   "source": [
    "transformar texto en número: (cast)"
   ]
  },
  {
   "cell_type": "code",
   "execution_count": null,
   "metadata": {},
   "outputs": [],
   "source": [
    "print( int('1') )\n",
    "print( int('00002') )\n",
    "print( int('   3   ') )\n",
    "\n",
    "print( float('1') )\n",
    "print( float('00002.20000') )\n",
    "print( float('   3.33   ') )\n",
    "\n",
    "print( int('1') + int('1') )"
   ]
  },
  {
   "cell_type": "markdown",
   "metadata": {},
   "source": [
    "transformar número en texto:"
   ]
  },
  {
   "cell_type": "code",
   "execution_count": null,
   "metadata": {},
   "outputs": [],
   "source": [
    "print( str(1) )\n",
    "print( str(2.2) )\n",
    "\n",
    "print( str(1) + str(1) )"
   ]
  },
  {
   "cell_type": "markdown",
   "metadata": {},
   "source": [
    "### Booleanos"
   ]
  },
  {
   "cell_type": "code",
   "execution_count": null,
   "metadata": {},
   "outputs": [],
   "source": [
    "ver = True\n",
    "fal = False\n",
    "\n",
    "print(ver)\n",
    "print(fal)\n",
    "print(not ver)\n",
    "print(not fal)"
   ]
  },
  {
   "cell_type": "markdown",
   "metadata": {},
   "source": [
    "este tipo de variables no se suelen almacenar en una varible tal cual, sino que surgen del resultado de una evaluación:"
   ]
  },
  {
   "cell_type": "code",
   "execution_count": null,
   "metadata": {},
   "outputs": [],
   "source": [
    "print(1 == 1)\n",
    "print(not 1 == 1)"
   ]
  },
  {
   "cell_type": "markdown",
   "metadata": {},
   "source": [
    "operadores:"
   ]
  },
  {
   "cell_type": "code",
   "execution_count": null,
   "metadata": {},
   "outputs": [],
   "source": [
    "print('igualdad:', 1 == 1)\n",
    "print('desigualdad:', 1 != 1)\n",
    "print('mayor que:', 1 > 1)\n",
    "print('menor que:', 1 < 1)\n",
    "print('mayor o igual que:', 1 >= 1)\n",
    "print('menor o igual que:', 1 <= 1)"
   ]
  },
  {
   "cell_type": "markdown",
   "metadata": {},
   "source": [
    "### Nada"
   ]
  },
  {
   "cell_type": "code",
   "execution_count": null,
   "metadata": {
    "tags": []
   },
   "outputs": [],
   "source": [
    "nada = None\n",
    "print( nada )\n",
    "print( bool(nada) )"
   ]
  },
  {
   "cell_type": "markdown",
   "metadata": {},
   "source": [
    "transformar una variable en booleano:"
   ]
  },
  {
   "cell_type": "code",
   "execution_count": null,
   "metadata": {},
   "outputs": [],
   "source": [
    "print( '1.', bool(\"\")     )\n",
    "print( '2.', bool(\"algo\") )\n",
    "print( '3.', bool(0)      )\n",
    "print( '4.', bool(-1)     )\n",
    "print( '5.', bool(None)   )"
   ]
  },
  {
   "cell_type": "markdown",
   "metadata": {},
   "source": [
    "## Condicionales\n",
    "___\n",
    "usar un condicional (la indentación es fundamental en Python):"
   ]
  },
  {
   "cell_type": "code",
   "execution_count": null,
   "metadata": {},
   "outputs": [],
   "source": [
    "if 1 == 1:\n",
    "    print('esta sentencia se va a ejecutar')\n",
    "    print('y esta sentencia también')\n",
    "\n",
    "print('se acabó el primer condicional')\n",
    "    \n",
    "if 1 == 2:\n",
    "    print('esta sentencia no se va a ejecutar')\n",
    "\n",
    "print('se acabó el segundo condicional')"
   ]
  },
  {
   "cell_type": "markdown",
   "metadata": {},
   "source": [
    "ejecutar una sentencia si la condición no se cumple"
   ]
  },
  {
   "cell_type": "code",
   "execution_count": null,
   "metadata": {},
   "outputs": [],
   "source": [
    "if 1 < 2:\n",
    "    print('esta sentencia no se va a ejecutar')\n",
    "else:\n",
    "    print('esta sentencia se va a ejecutar')"
   ]
  },
  {
   "cell_type": "markdown",
   "metadata": {},
   "source": [
    "ejecutar una sentencia si otra condición se cumple"
   ]
  },
  {
   "cell_type": "code",
   "execution_count": null,
   "metadata": {},
   "outputs": [],
   "source": [
    "if 1 > 2:\n",
    "    print('esta sentencia no se va a ejecutar')\n",
    "elif 1 < 2:\n",
    "    print('esta sentencia se va a ejecutar')\n",
    "else:\n",
    "    print('esta sentencia no se va a ejecutar porque ya se cumplió una de las condiciones')"
   ]
  },
  {
   "cell_type": "markdown",
   "metadata": {},
   "source": [
    "operadores condicionales:"
   ]
  },
  {
   "cell_type": "code",
   "execution_count": null,
   "metadata": {},
   "outputs": [],
   "source": [
    "if fal or ver:\n",
    "    print('al menos de las dos variables es verdadera')"
   ]
  },
  {
   "cell_type": "code",
   "execution_count": null,
   "metadata": {},
   "outputs": [],
   "source": [
    "if ver and 1 == 1:\n",
    "    print('las dos variables son verdaderas')\n",
    "\n",
    "if fal and 1 == 1:\n",
    "    print('esta sentencia no se va a ejecutar')"
   ]
  },
  {
   "cell_type": "markdown",
   "metadata": {},
   "source": [
    "comprobar si una cadena de texto está dentro de otra:"
   ]
  },
  {
   "cell_type": "code",
   "execution_count": null,
   "metadata": {},
   "outputs": [],
   "source": [
    "if \"texto\" in \"un texto más largo\":\n",
    "    print(\"contiene 'texto'\")"
   ]
  },
  {
   "cell_type": "markdown",
   "metadata": {},
   "source": [
    "## Listas\n",
    "___\n",
    "declarar una lista y acceder a un elemento de ella:"
   ]
  },
  {
   "cell_type": "code",
   "execution_count": null,
   "metadata": {},
   "outputs": [],
   "source": [
    "lista = [1, \"algo\", True, None]\n",
    "\n",
    "print( '1.', lista[0] )\n",
    "print( '2.', lista[1] )\n",
    "print( '3.', lista[2] )\n",
    "print( '4.', lista[3] )\n",
    "print( '5.', lista[-1] )\n",
    "print( '6.', lista[-2] )\n",
    "print( '7.', lista[-3] )\n",
    "print( '8.', lista[-4] )"
   ]
  },
  {
   "cell_type": "markdown",
   "metadata": {},
   "source": [
    "las listas no tienen porque definirse en una sola línea:"
   ]
  },
  {
   "cell_type": "code",
   "execution_count": null,
   "metadata": {},
   "outputs": [],
   "source": [
    "lista = [1, \"algo\", \n",
    "         True, None]\n",
    "\n",
    "lista = [\n",
    "    1, \"algo\", \n",
    "    True, None\n",
    "]\n",
    "\n",
    "print(lista)"
   ]
  },
  {
   "cell_type": "markdown",
   "metadata": {},
   "source": [
    "sustituir el valor de un elemento de la lista:"
   ]
  },
  {
   "cell_type": "code",
   "execution_count": null,
   "metadata": {},
   "outputs": [],
   "source": [
    "lista[1] = \"otro\"\n",
    "\n",
    "print(lista)"
   ]
  },
  {
   "cell_type": "markdown",
   "metadata": {},
   "source": [
    "longitud de una lista:"
   ]
  },
  {
   "cell_type": "code",
   "execution_count": null,
   "metadata": {},
   "outputs": [],
   "source": [
    "lista = [1, 4, 5, 56]\n",
    "\n",
    "print( len(lista) )"
   ]
  },
  {
   "cell_type": "markdown",
   "metadata": {},
   "source": [
    "añadir un elemento a la lista:"
   ]
  },
  {
   "cell_type": "code",
   "execution_count": null,
   "metadata": {},
   "outputs": [],
   "source": [
    "lista = ['uno', 'dos']\n",
    "lista.append('tres')\n",
    "\n",
    "print(lista)\n",
    "\n",
    "lista = lista + ['cuatro', 'cinco']\n",
    "\n",
    "print(lista)"
   ]
  },
  {
   "cell_type": "markdown",
   "metadata": {},
   "source": [
    "listas y condicionales:"
   ]
  },
  {
   "cell_type": "code",
   "execution_count": null,
   "metadata": {},
   "outputs": [],
   "source": [
    "lista_de_frutas = [\"manzana\", \"plátano\", \"cereza\"]\n",
    "\n",
    "if \"manzana\" in lista_de_frutas:\n",
    "    print(\"hay manzana\")\n",
    "else:\n",
    "    print(\"no hay manzana\")\n",
    "    \n",
    "if \"pera\" in lista_de_frutas:\n",
    "    print(\"hay pera\")\n",
    "else:\n",
    "    print(\"no hay pera\")"
   ]
  },
  {
   "cell_type": "markdown",
   "metadata": {},
   "source": [
    "## Bucles\n",
    "___"
   ]
  },
  {
   "cell_type": "markdown",
   "metadata": {},
   "source": [
    "ejecutar una sentencia un número determinado de veces:"
   ]
  },
  {
   "cell_type": "code",
   "execution_count": null,
   "metadata": {},
   "outputs": [],
   "source": [
    "for i in range(3):\n",
    "    print(i)"
   ]
  },
  {
   "cell_type": "markdown",
   "metadata": {},
   "source": [
    "hacer un bucle con una lista:"
   ]
  },
  {
   "cell_type": "code",
   "execution_count": null,
   "metadata": {
    "tags": []
   },
   "outputs": [],
   "source": [
    "lista_de_frutas = [\"manzana\", \"plátano\", \"cereza\", \"pera\"]\n",
    "\n",
    "for fruta in lista_de_frutas:\n",
    "    print(fruta)"
   ]
  },
  {
   "cell_type": "markdown",
   "metadata": {},
   "source": [
    "mezcla de un bucle y condicional, `break` sirve para romper el bucle:"
   ]
  },
  {
   "cell_type": "code",
   "execution_count": null,
   "metadata": {},
   "outputs": [],
   "source": [
    "for fruta in lista_de_frutas:\n",
    "    if fruta != \"cereza\":\n",
    "        print(fruta + \" no es cereza\")\n",
    "    else:\n",
    "        print('ya encontré cereza')\n",
    "        break"
   ]
  },
  {
   "cell_type": "markdown",
   "metadata": {},
   "source": [
    "ejecutar una sentencia mientras que se cumpla una condicion"
   ]
  },
  {
   "cell_type": "code",
   "execution_count": null,
   "metadata": {},
   "outputs": [],
   "source": [
    "var = 0\n",
    "fin = 3\n",
    "\n",
    "while var < fin:\n",
    "    var = var + 1\n",
    "    print(var)"
   ]
  },
  {
   "cell_type": "markdown",
   "metadata": {},
   "source": [
    "## Diccionarios\n",
    "___"
   ]
  },
  {
   "cell_type": "code",
   "execution_count": null,
   "metadata": {},
   "outputs": [],
   "source": [
    "diccionario = {'key1': 'val1', 'key2': 'val2', 'key3': 'val3'}\n",
    "               \n",
    "print( '1.', diccionario['key2'] )\n",
    "print( '2.', diccionario.get('key') )\n",
    "print( '3.', diccionario.get('key4') )\n",
    "print( '4.', diccionario.get('key5', 'val5') )"
   ]
  },
  {
   "cell_type": "markdown",
   "metadata": {},
   "source": [
    "modificar el valor de una entrada:"
   ]
  },
  {
   "cell_type": "code",
   "execution_count": null,
   "metadata": {},
   "outputs": [],
   "source": [
    "diccionario = {\"marca\": 'Ford', \"modelo\": \"Mustang\", \"año\": 1964,}\n",
    "diccionario[\"año\"] = 2018\n",
    "print(diccionario)"
   ]
  },
  {
   "cell_type": "markdown",
   "metadata": {},
   "source": [
    "añadir entradas:"
   ]
  },
  {
   "cell_type": "code",
   "execution_count": null,
   "metadata": {},
   "outputs": [],
   "source": [
    "diccionario[\"puertas\"] = 5\n",
    "print(diccionario)"
   ]
  },
  {
   "cell_type": "markdown",
   "metadata": {},
   "source": [
    "diccionarios y condicionales:"
   ]
  },
  {
   "cell_type": "code",
   "execution_count": null,
   "metadata": {},
   "outputs": [],
   "source": [
    "if \"marca\" in diccionario.keys():\n",
    "    print('\"marca\" es una entrada del diccionario')\n",
    "\n",
    "if \"Ford\" in diccionario.values():\n",
    "    print('\"Ford\" es un valor del diccionario')"
   ]
  },
  {
   "cell_type": "markdown",
   "metadata": {},
   "source": [
    "## Funciones (Methods)\n",
    "___\n",
    "\n",
    "definir una función:"
   ]
  },
  {
   "cell_type": "code",
   "execution_count": null,
   "metadata": {},
   "outputs": [],
   "source": [
    "def mi_funcion(argumento1, argumento2):    \n",
    "    print(f\"estos son mis argumentos: {argumento1}, {argumento2}\")\n",
    "\n",
    "mi_funcion(\"uno\", \"dos\")\n",
    "mi_funcion(argumento2=\"uno\", argumento1=\"dos\")"
   ]
  },
  {
   "cell_type": "markdown",
   "metadata": {},
   "source": [
    "para incluir argumentos opcionales hay que indicar un valor por defecto:"
   ]
  },
  {
   "cell_type": "code",
   "execution_count": null,
   "metadata": {},
   "outputs": [],
   "source": [
    "def mi_funcion(argumento, argumento_opcional=None):\n",
    "    print(f\"estos son mis argumentos: {argumento}, {argumento_opcional}\")\n",
    "\n",
    "mi_funcion(\"uno\", \"dos\")\n",
    "mi_funcion(\"uno\")"
   ]
  },
  {
   "cell_type": "markdown",
   "metadata": {},
   "source": [
    "retorno de una función:    "
   ]
  },
  {
   "cell_type": "code",
   "execution_count": null,
   "metadata": {},
   "outputs": [],
   "source": [
    "def mi_funcion(a):\n",
    "    var = [2, 3, 5]\n",
    "    return var\n",
    "\n",
    "print( mi_funcion(3) )"
   ]
  },
  {
   "cell_type": "markdown",
   "metadata": {},
   "source": [
    "## Clases\n",
    "___\n",
    "definicion y uso de una clase:"
   ]
  },
  {
   "cell_type": "code",
   "execution_count": null,
   "metadata": {},
   "outputs": [],
   "source": [
    "class mi_clase(object):\n",
    "    atributo1 = \"uno\"\n",
    "    atributo2 = \"dos\"\n",
    "    \n",
    "    def metodo_suma(self, argumento1, argumento2):\n",
    "        return argumento1 + argumento2\n",
    "\n",
    "instancia_de_la_clase = mi_clase()\n",
    "\n",
    "print( instancia_de_la_clase.atributo1 )\n",
    "print( instancia_de_la_clase.atributo2 )\n",
    "print( instancia_de_la_clase.metodo_suma(1, 1) )"
   ]
  },
  {
   "cell_type": "markdown",
   "metadata": {},
   "source": [
    "clase con constructor:"
   ]
  },
  {
   "cell_type": "code",
   "execution_count": null,
   "metadata": {},
   "outputs": [],
   "source": [
    "class mi_clase(object):\n",
    "    \n",
    "    def __init__(self, constructor1, constructor2):\n",
    "        self.atributo1 = constructor1\n",
    "        self.atributo2 = constructor2\n",
    "    \n",
    "    def suma_de_atributos(self, argumento1, argumento2):\n",
    "        return self.atributo1 + self.atributo2 + argumento1 + argumento2\n",
    "\n",
    "instancia_de_la_clase = mi_clase(1, 1)\n",
    "print( instancia_de_la_clase.suma_de_atributos(1, 1) )\n",
    "\n",
    "instancia_de_la_clase.atributo1 = 2\n",
    "instancia_de_la_clase.atributo2 = 2\n",
    "print( instancia_de_la_clase.suma_de_atributos(2, 2) )"
   ]
  },
  {
   "cell_type": "markdown",
   "metadata": {},
   "source": [
    "## Capturar Errores\n",
    "___\n",
    "defininir un código a ejecutar cuando se eleva una determinada exceción:"
   ]
  },
  {
   "cell_type": "code",
   "execution_count": null,
   "metadata": {},
   "outputs": [],
   "source": [
    "try:\n",
    "    pass\n",
    "except ZeroDivisionError as e:\n",
    "    print('esta sentencia no se va a ejecutar')\n",
    "\n",
    "try:\n",
    "    1/0\n",
    "    print('esta sentencia no se va a ejecutar')\n",
    "except ZeroDivisionError as e:\n",
    "    print(e)"
   ]
  },
  {
   "cell_type": "markdown",
   "metadata": {},
   "source": [
    "se puede añadir el apartado `finally` para que se ejecute una sentencia haya o no una excepción en el bloque `try`"
   ]
  },
  {
   "cell_type": "code",
   "execution_count": null,
   "metadata": {},
   "outputs": [],
   "source": [
    "try:\n",
    "    1/0\n",
    "except ZeroDivisionError as e:\n",
    "    print(e)\n",
    "finally:\n",
    "    print(\"esta sentencia se ejecuta pase lo que pase\")"
   ]
  },
  {
   "cell_type": "markdown",
   "metadata": {},
   "source": [
    "también se puede forzar a que \"elevar\" un error concreto sin que se haya producido:"
   ]
  },
  {
   "cell_type": "code",
   "execution_count": null,
   "metadata": {},
   "outputs": [],
   "source": [
    "try:\n",
    "    raise ZeroDivisionError(\"mensaje de error\")\n",
    "    print('esta sentencia no se va a ejecutar')\n",
    "except ZeroDivisionError as e:\n",
    "    print(e)"
   ]
  },
  {
   "cell_type": "markdown",
   "metadata": {},
   "source": [
    "o reelevar el error actual:"
   ]
  },
  {
   "cell_type": "code",
   "execution_count": null,
   "metadata": {},
   "outputs": [],
   "source": [
    "try:\n",
    "    raise ZeroDivisionError(\"mensaje de error\")\n",
    "except ZeroDivisionError as e:\n",
    "    print(e)\n",
    "    raise"
   ]
  },
  {
   "cell_type": "markdown",
   "metadata": {},
   "source": [
    "## Inputs\n",
    "___"
   ]
  },
  {
   "cell_type": "code",
   "execution_count": null,
   "metadata": {},
   "outputs": [],
   "source": [
    "var = input(\"introduce algo y pulsa Enter: \")\n",
    "\n",
    "print(var)"
   ]
  },
  {
   "cell_type": "markdown",
   "metadata": {},
   "source": [
    "## Módulos\n",
    "___\n",
    "importar módulos o una clase de un módulo:"
   ]
  },
  {
   "cell_type": "code",
   "execution_count": null,
   "metadata": {},
   "outputs": [],
   "source": [
    "import os\n",
    "\n",
    "print( os.name )  # atributo del módulo"
   ]
  },
  {
   "cell_type": "code",
   "execution_count": null,
   "metadata": {},
   "outputs": [],
   "source": [
    "import platform\n",
    "\n",
    "print( platform.system() )  # método del módulo"
   ]
  },
  {
   "cell_type": "code",
   "execution_count": null,
   "metadata": {},
   "outputs": [],
   "source": [
    "import configparser\n",
    "config = configparser.ConfigParser()  # clase del módulo\n",
    "\n",
    "# o\n",
    "from configparser import ConfigParser\n",
    "config = ConfigParser()\n",
    "\n",
    "# o\n",
    "from configparser import ConfigParser as Cp\n",
    "config = Cp()"
   ]
  },
  {
   "cell_type": "markdown",
   "metadata": {},
   "source": [
    "Instalar un módulo (En JupyterLab poner `!` delante de la sentencia se ejecutará en la shell del sistema, no es código Python):"
   ]
  },
  {
   "cell_type": "code",
   "execution_count": null,
   "metadata": {
    "tags": []
   },
   "outputs": [],
   "source": [
    "! pip install selenium"
   ]
  },
  {
   "cell_type": "markdown",
   "metadata": {},
   "source": [
    "Desinstalar un modulo:"
   ]
  },
  {
   "cell_type": "code",
   "execution_count": null,
   "metadata": {},
   "outputs": [],
   "source": [
    "! pip uninstall -y selenium"
   ]
  },
  {
   "cell_type": "markdown",
   "metadata": {},
   "source": [
    "la opción `-y` sirve para que no requiera confirmación"
   ]
  },
  {
   "cell_type": "markdown",
   "metadata": {},
   "source": [
    "## JSON\n",
    "___\n",
    "es una estructura de información similar a xml. Ejemplo:\n",
    "```\n",
    "data = {\n",
    "    \"key1\": \"value1\",\n",
    "    \"key2\": 2,\n",
    "    \"key3\": true,\n",
    "    \"key4\": null,\n",
    "    \"key5\": [\n",
    "        \"value51\",\n",
    "        \"value52\"\n",
    "    ],\n",
    "    \"key6\": {\n",
    "        \"key61\": \"value61\",\n",
    "        \"key62\": \"value62\"\n",
    "    }\n",
    "}\n",
    "    \n",
    "```"
   ]
  },
  {
   "cell_type": "markdown",
   "metadata": {},
   "source": [
    "se puede meter ese texto en una variable y luego transformarlo en un diccionario:"
   ]
  },
  {
   "cell_type": "code",
   "execution_count": null,
   "metadata": {},
   "outputs": [],
   "source": [
    "json_raw = \"\"\"{\n",
    "    \"key1\": \"value1\",\n",
    "    \"key2\": 2,\n",
    "    \"key3\": true,\n",
    "    \"key4\": null,\n",
    "    \"key5\": [\n",
    "        \"value51\",\n",
    "        \"value52\"\n",
    "    ],\n",
    "    \"key6\": {\n",
    "        \"key61\": \"value61\",\n",
    "        \"key62\": \"value62\"\n",
    "    }\n",
    "}\n",
    "\"\"\"\n",
    "\n",
    "import json\n",
    "data = json.loads(json_raw)  # json -> dict\n",
    "\n",
    "print('1:   ', data[\"key1\"] )\n",
    "print('2:   ', data[\"key2\"] )\n",
    "print('3:   ', data[\"key3\"] )\n",
    "print('4:   ', data[\"key4\"] )\n",
    "print('5:   ', data[\"key5\"] )\n",
    "print('5.1: ', data[\"key5\"][0] )\n",
    "print('5.2: ', data[\"key5\"][1] )\n",
    "print('6:   ', data[\"key6\"] )\n",
    "print('6.1: ', data[\"key6\"][\"key61\"] )\n",
    "print('6.2: ', data[\"key6\"][\"key62\"] )"
   ]
  },
  {
   "cell_type": "markdown",
   "metadata": {},
   "source": [
    "también se puede transforma un diccionario en una cadena JSON:"
   ]
  },
  {
   "cell_type": "code",
   "execution_count": null,
   "metadata": {},
   "outputs": [],
   "source": [
    "data = {\"key1\": \"value1\", \n",
    "        \"key2\": 2, \n",
    "        \"key3\": True, \n",
    "        \"key4\": None, \n",
    "        \"key5\": [\"value51\", \"value52\"], \n",
    "        \"key6\": {\"key61\": \"value61\", \"key62\": \"value62\"}}\n",
    "\n",
    "data_json = json.dumps(data, indent=4)  # dict -> json\n",
    "print(data_json)"
   ]
  },
  {
   "cell_type": "markdown",
   "metadata": {},
   "source": [
    "## Bloque with\n",
    "___\n",
    "con with se define un bloque para un objeto definido, el cual se autodestruirá al terminar:"
   ]
  },
  {
   "cell_type": "code",
   "execution_count": null,
   "metadata": {
    "tags": []
   },
   "outputs": [],
   "source": [
    "var = 0\n",
    "\n",
    "class Object(object):\n",
    "    \n",
    "    def __enter__(self):\n",
    "        self.value = 1\n",
    "        return self\n",
    "\n",
    "    def __exit__(self, type, value, tb):\n",
    "        self.value = 2\n",
    "\n",
    "        \n",
    "print('VALOR INICIAL:', var)\n",
    "\n",
    "with Object() as o:\n",
    "    var = o.value\n",
    "    \n",
    "print('VALOR FINAL:', var)"
   ]
  },
  {
   "cell_type": "markdown",
   "metadata": {},
   "source": [
    "## Herencia\n",
    "___\n",
    "Una clase puede heredar todo los métodos y atributos de otra con esta sintaxis. Ejemplo de una clase heredada:"
   ]
  },
  {
   "cell_type": "code",
   "execution_count": null,
   "metadata": {},
   "outputs": [],
   "source": [
    "class ClaseA(object):\n",
    "    a = 1\n",
    "    b = 2\n",
    "    \n",
    "    def c(self):\n",
    "        return 3\n",
    "    \n",
    "    def d(self):\n",
    "        return 4\n",
    "\n",
    "\n",
    "class ClaseB(ClaseA):\n",
    "    b = 5\n",
    "    e = 6\n",
    "\n",
    "    def d(self):\n",
    "        return 7\n",
    "\n",
    "    def f(self):\n",
    "        return 8\n",
    "\n",
    "    \n",
    "clase_a = ClaseA()\n",
    "clase_b = ClaseB()\n",
    "    \n",
    "print('a1:', clase_a.a)\n",
    "print('a2:', clase_a.b)\n",
    "print('a3:', clase_a.c())\n",
    "print('a4:', clase_a.d())\n",
    "print()\n",
    "print('b1:', clase_b.a)\n",
    "print('b2:', clase_b.b)\n",
    "print('b2:', clase_b.e)\n",
    "print('b3:', clase_b.c())\n",
    "print('b4:', clase_b.d())\n",
    "print('b4:', clase_b.f())"
   ]
  },
  {
   "cell_type": "markdown",
   "metadata": {},
   "source": [
    "## Decoradores\n",
    "___\n",
    "Los decoradores alteran de manera dinámica la funcionalidad de una función sin tener que cambiar el código fuente de la función decorada:"
   ]
  },
  {
   "cell_type": "code",
   "execution_count": null,
   "metadata": {},
   "outputs": [],
   "source": [
    "def di_adios_tambien(f):  # definicion del decorador\n",
    "    def nueva_funcion():\n",
    "        f()\n",
    "        print('adiós')\n",
    "    return nueva_funcion\n",
    "\n",
    "@di_adios_tambien\n",
    "def di_hola():\n",
    "    print('hola')\n",
    "\n",
    "di_hola()"
   ]
  },
  {
   "cell_type": "code",
   "execution_count": null,
   "metadata": {},
   "outputs": [],
   "source": []
  }
 ],
 "metadata": {
  "kernelspec": {
   "display_name": "Python 3",
   "language": "python",
   "name": "python3"
  },
  "language_info": {
   "codemirror_mode": {
    "name": "ipython",
    "version": 3
   },
   "file_extension": ".py",
   "mimetype": "text/x-python",
   "name": "python",
   "nbconvert_exporter": "python",
   "pygments_lexer": "ipython3",
   "version": "3.8.8"
  }
 },
 "nbformat": 4,
 "nbformat_minor": 4
}
