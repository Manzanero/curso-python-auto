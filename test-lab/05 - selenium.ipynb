{
 "cells": [
  {
   "cell_type": "markdown",
   "metadata": {},
   "source": [
    "# Capítulo 5 - Uso de Selenium para automatizar acciones en el navegador\n",
    "___\n",
    "## Ejemplo práctico\n",
    "___"
   ]
  },
  {
   "cell_type": "markdown",
   "metadata": {},
   "source": [
    "importamos librerías clave:"
   ]
  },
  {
   "cell_type": "code",
   "execution_count": null,
   "metadata": {
    "scrolled": true
   },
   "outputs": [],
   "source": [
    "! pip install selenium"
   ]
  },
  {
   "cell_type": "code",
   "execution_count": null,
   "metadata": {
    "scrolled": true
   },
   "outputs": [],
   "source": [
    "from selenium import webdriver  # hay que haber ejecutado `pip install selenium` para que funcione la importación"
   ]
  },
  {
   "cell_type": "markdown",
   "metadata": {},
   "source": [
    "Para levantar el explorador deberá estar presente en la misma carpeta que este documento el driver (descomprimido como .exe) de la versión del navegador que queramos automatizar. Se puede bajar de aquí: https://sites.google.com/chromium.org/driver/"
   ]
  },
  {
   "cell_type": "code",
   "execution_count": null,
   "metadata": {},
   "outputs": [],
   "source": [
    "driver = webdriver.Chrome()\n",
    "driver.get(\"http://www.python.org\")"
   ]
  },
  {
   "cell_type": "markdown",
   "metadata": {},
   "source": [
    "comprobación de texto en el título:"
   ]
  },
  {
   "cell_type": "code",
   "execution_count": null,
   "metadata": {},
   "outputs": [],
   "source": [
    "print(driver.title)\n",
    "assert \"Python\" in driver.title"
   ]
  },
  {
   "cell_type": "markdown",
   "metadata": {},
   "source": [
    "referenciar un elemento de la web:\n",
    "\n",
    "orden de rapidez: 1.- id | 2.- name | 3.- css selector | 4.- xpath"
   ]
  },
  {
   "cell_type": "code",
   "execution_count": null,
   "metadata": {},
   "outputs": [],
   "source": [
    "from selenium.webdriver.common.by import By\n",
    "\n",
    "# id\n",
    "tbx__search = driver.find_element(By.ID, \"id-search-field\") \n",
    "\n",
    "# name\n",
    "tbx__search = driver.find_element(By.NAME, \"q\") \n",
    "\n",
    "# css selector\n",
    "tbx__search = driver.find_element(By.CSS_SELECTOR, \"input#id-search-field\")                                     # id\n",
    "tbx__search = driver.find_element(By.CSS_SELECTOR, \"input.search-field\")                                        # class\n",
    "tbx__search = driver.find_element(By.CSS_SELECTOR, \"input[placeholder='Search']\")                               # otro atributo\n",
    "tbx__search = driver.find_element(By.CSS_SELECTOR, \"input#id-search-field.search-field[placeholder='Search']\")  # más de un atributo a la vez\n",
    "\n",
    "tbx__search = driver.find_element(By.CSS_SELECTOR, \"input[placeholder^='Sea']\")   # empieza con\n",
    "tbx__search = driver.find_element(By.CSS_SELECTOR, \"input[placeholder$='arch']\")  # termina con\n",
    "tbx__search = driver.find_element(By.CSS_SELECTOR, \"input[placeholder*='ear']\")   # contiene\n",
    "\n",
    "# xpath\n",
    "tbx__search = driver.find_element(By.XPATH, \"//input[@placeholder='Search']\") "
   ]
  },
  {
   "cell_type": "markdown",
   "metadata": {},
   "source": [
    "Cundo el identificador no es único se puede coger una lista de elementos con el siguiente método:"
   ]
  },
  {
   "cell_type": "code",
   "execution_count": null,
   "metadata": {},
   "outputs": [],
   "source": [
    "lista_de_elementos = driver.find_elements(By.CSS_SELECTOR, \"input#id-search-field\")  # devuelve un lista\n",
    "\n",
    "tbx__search = lista_de_elementos[0]  # en este caso es 0 porque queremos el primero, pondríamos 1 si fuera el segundo, etc."
   ]
  },
  {
   "cell_type": "markdown",
   "metadata": {},
   "source": [
    "escribir en el buscador y pulsar Enter:"
   ]
  },
  {
   "cell_type": "code",
   "execution_count": null,
   "metadata": {},
   "outputs": [],
   "source": [
    "from selenium.webdriver.common.by import By\n",
    "\n",
    "tbx__search = driver.find_element(By.ID, \"id-search-field\") \n",
    "tbx__search.clear()\n",
    "tbx__search.send_keys(\"no va a haber resultados para esta frase\")\n",
    "\n",
    "from selenium.webdriver.common.keys import Keys  # con esta línea importamos la clase Keys de selenium, que nos hará fata a continuación\n",
    "\n",
    "tbx__search.send_keys(Keys.RETURN)  # pulsar Enter"
   ]
  },
  {
   "cell_type": "markdown",
   "metadata": {},
   "source": [
    "escribir en el buscador y clicar en 'go':"
   ]
  },
  {
   "cell_type": "code",
   "execution_count": null,
   "metadata": {},
   "outputs": [],
   "source": [
    "tbx__search = driver.find_element(By.ID, \"id-search-field\") \n",
    "tbx__search.clear()\n",
    "tbx__search.send_keys(\"tampoco va a haber resultados para esta frase\")\n",
    "\n",
    "btn__go = driver.find_element(By.ID, \"submit\") \n",
    "btn__go.click()"
   ]
  },
  {
   "cell_type": "markdown",
   "metadata": {},
   "source": [
    "más comprobaciones:"
   ]
  },
  {
   "cell_type": "code",
   "execution_count": null,
   "metadata": {},
   "outputs": [],
   "source": [
    "print(\"···\")\n",
    "print( driver.page_source[21500:21800] )\n",
    "print(\"···\")\n",
    "\n",
    "assert \"No results found.\" in driver.page_source"
   ]
  },
  {
   "cell_type": "code",
   "execution_count": null,
   "metadata": {},
   "outputs": [],
   "source": [
    "txt__results = driver.find_element(By.CSS_SELECTOR, \"#content > div > section > form > ul > p\")\n",
    "print(txt__results.text)\n",
    "\n",
    "assert \"No results found.\" in txt__results.text"
   ]
  },
  {
   "cell_type": "markdown",
   "metadata": {},
   "source": [
    "cerrar el navegador:"
   ]
  },
  {
   "cell_type": "code",
   "execution_count": null,
   "metadata": {},
   "outputs": [],
   "source": [
    "driver.quit()"
   ]
  },
  {
   "cell_type": "markdown",
   "metadata": {},
   "source": [
    "## Page objects\n",
    "___\n",
    "vamos a transformar el portal http://www.python.org en un pageobject"
   ]
  },
  {
   "cell_type": "code",
   "execution_count": null,
   "metadata": {},
   "outputs": [],
   "source": [
    "class PortalPage(object):\n",
    "    \n",
    "    # constructor\n",
    "    def __init__(self, driver):\n",
    "        self.driver = driver\n",
    "        \n",
    "        # elementos\n",
    "        self.tbx__search = lambda: self.driver.find_element(By.ID, \"id-search-field\")\n",
    "        self.btn__go = lambda: self.driver.find_element(By.ID, \"submit\")\n",
    "    \n",
    "    # métodos    \n",
    "    def get(self):\n",
    "        driver.get(\"http://www.python.org\")\n",
    "        return self\n",
    "    \n",
    "    def search(self, text):\n",
    "        self.tbx__search().clear()\n",
    "        self.tbx__search().send_keys(text)\n",
    "        self.btn__go().click()\n",
    "        \n",
    "    \n",
    "class ResultsPage(object):\n",
    "    \n",
    "    def __init__(self, driver):\n",
    "        self.driver = driver\n",
    "        self.txt__results = lambda: self.driver.find_element(By.CSS_SELECTOR, \"#content > div > section > form > ul > p\")\n",
    "    \n",
    "    def assert_no_results_visible(self):\n",
    "        assert self.txt__results().is_displayed()\n",
    "        assert \"No results found.\" in self.txt__results().text"
   ]
  },
  {
   "cell_type": "code",
   "execution_count": null,
   "metadata": {},
   "outputs": [],
   "source": [
    "import time\n",
    "\n",
    "driver = webdriver.Chrome()\n",
    "\n",
    "try:\n",
    "    page__portal = PortalPage(driver).get()\n",
    "    page__portal.search(\"algo que no existe\")\n",
    "\n",
    "    page__results = ResultsPage(driver)\n",
    "    page__results.assert_no_results_visible()\n",
    "    \n",
    "finally:\n",
    "    time.sleep(3)\n",
    "    driver.close()"
   ]
  },
  {
   "cell_type": "markdown",
   "metadata": {},
   "source": [
    "el flujo utilizando solo los atributos sería así:"
   ]
  },
  {
   "cell_type": "code",
   "execution_count": null,
   "metadata": {},
   "outputs": [],
   "source": [
    "import time\n",
    "\n",
    "driver = webdriver.Chrome()\n",
    "\n",
    "try:\n",
    "    driver.get(\"http://www.python.org\")\n",
    "    \n",
    "    # Portal\n",
    "    page__portal = PortalPage(driver)\n",
    "    page__portal.tbx__search().clear()\n",
    "    page__portal.tbx__search().send_keys(\"algo que no existe\")\n",
    "    page__portal.btn__go().click()\n",
    "    \n",
    "    # Results\n",
    "    assert \"No results found.\" in ResultsPage(driver).txt__results().text\n",
    "    print(\"No results found.\")\n",
    "    \n",
    "finally:\n",
    "    time.sleep(3)\n",
    "    driver.close()"
   ]
  },
  {
   "cell_type": "markdown",
   "metadata": {},
   "source": [
    "otro ejemplo de uso:\n",
    "\n",
    "dada esta web (http://the-internet.herokuapp.com/login), crear debajo un script que habrá la página se loguee y luego desloguee (incluyendo asserciones)"
   ]
  },
  {
   "cell_type": "code",
   "execution_count": null,
   "metadata": {},
   "outputs": [],
   "source": [
    "from selenium import webdriver\n",
    "\n",
    "driver = webdriver.Chrome()\n",
    "\n",
    "try:\n",
    "    driver.get(\"http://the-internet.herokuapp.com/login\")\n",
    "    tbx__search = driver.find_element(By.NAME, \"username\")\n",
    "    tbx__search.send_keys(\"tomsmith\")\n",
    "    tbx__search = driver.find_element(By.NAME, \"password\")\n",
    "    tbx__search.send_keys(\"SuperSecretPassword!\")\n",
    "    btn__login = driver.find_element(By.CSS_SELECTOR, \"#login > button > i\")\n",
    "    btn__login.click()\n",
    "    btn__logout = driver.find_element(By.CSS_SELECTOR, \"#content > div > a > i\")\n",
    "    btn__logout.click()\n",
    "finally:\n",
    "    driver.quit()"
   ]
  },
  {
   "cell_type": "markdown",
   "metadata": {},
   "source": [
    "usando pageobjects quedaría así:"
   ]
  },
  {
   "cell_type": "code",
   "execution_count": null,
   "metadata": {},
   "outputs": [],
   "source": [
    "from selenium import webdriver\n",
    "from selenium.webdriver.common.keys import Keys\n",
    "\n",
    "class Portal(object):\n",
    "    \n",
    "    def __init__(self, driver):\n",
    "        self.driver = driver\n",
    "        self.tbx__username = lambda: self.driver.find_element(By.NAME, \"username\")\n",
    "        self.tbx__password = lambda: self.driver.find_element(By.NAME, \"password\")\n",
    "        self.btn__login = lambda: self.driver.find_element(By.CSS_SELECTOR, \"#login > button > i\")\n",
    "        \n",
    "    def get(self):\n",
    "        self.driver.get(\"https://the-internet.herokuapp.com/login\")\n",
    "        return self\n",
    "    \n",
    "    def login(self, username, password):\n",
    "        self.tbx__username().clear()\n",
    "        self.tbx__username().send_keys(username)\n",
    "        self.tbx__password().clear()\n",
    "        self.tbx__password().send_keys(password)\n",
    "        self.btn__login().click()\n",
    "        \n",
    "        \n",
    "class SecureArea(object):\n",
    "    \n",
    "    def __init__(self, driver):\n",
    "        self.driver = driver\n",
    "        self.btn__logout = lambda: self.driver.find_element(By.XPATH, \"//*[@id='content']/div/a\")\n",
    "    \n",
    "    def assert_page_loaded(self):\n",
    "        assert self.btn__logout().is_displayed()\n",
    "\n",
    "\n",
    "driver = webdriver.Chrome()\n",
    "\n",
    "try:\n",
    "    page__portal = Portal(driver).get()\n",
    "    page__portal.login(\"tomsmith\", \"SuperSecretPassword!\")\n",
    "    page__secure_area = SecureArea(driver)\n",
    "    page__secure_area.assert_page_loaded()\n",
    "    page__secure_area.btn__logout().click()\n",
    "finally:\n",
    "    driver.quit()"
   ]
  }
 ],
 "metadata": {
  "kernelspec": {
   "display_name": "Python 3",
   "language": "python",
   "name": "python3"
  },
  "language_info": {
   "codemirror_mode": {
    "name": "ipython",
    "version": 3
   },
   "file_extension": ".py",
   "mimetype": "text/x-python",
   "name": "python",
   "nbconvert_exporter": "python",
   "pygments_lexer": "ipython3",
   "version": "3.8.8"
  }
 },
 "nbformat": 4,
 "nbformat_minor": 4
}
