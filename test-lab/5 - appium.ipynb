{
 "cells": [
  {
   "cell_type": "markdown",
   "metadata": {},
   "source": [
    "## Herencia\n",
    "Una clase puede heredar todo los métodos y atributos de otra con esta sintaxis. Ejemplo de una clase heredada:"
   ]
  },
  {
   "cell_type": "code",
   "execution_count": null,
   "metadata": {},
   "outputs": [],
   "source": [
    "class ClaseA(object):\n",
    "    a = 1\n",
    "    b = 2\n",
    "    \n",
    "    def c(self):\n",
    "        return 3\n",
    "    \n",
    "    def d(self):\n",
    "        return 4\n",
    "\n",
    "\n",
    "class ClaseB(ClaseA):\n",
    "    b = 5\n",
    "    \n",
    "    def d(self):\n",
    "        return 6\n",
    "\n",
    "    \n",
    "clase_a = ClaseA()\n",
    "clase_b = ClaseB()\n",
    "    \n",
    "print('1a:', clase_a.a)\n",
    "print('2a:', clase_a.b)\n",
    "print('3a:', clase_a.c())\n",
    "print('4a:', clase_a.d())\n",
    "\n",
    "print('1b:', clase_b.a)\n",
    "print('2b:', clase_b.b)\n",
    "print('3b:', clase_b.c())\n",
    "print('4b:', clase_b.d())"
   ]
  },
  {
   "cell_type": "markdown",
   "metadata": {},
   "source": [
    "# Appium\n",
    "___\n",
    "## Conectar un dispositivo\n",
    "___\n",
    "### Pasos comunes\n",
    "Para conectar un dispositivo de Android hay que seguir los siguientes pasos:\n",
    "1. Descargar e instalar Java jdk 1.8: https://www.oracle.com/technetwork/java/javase/downloads/jdk8-downloads-2133151.html\n",
    "2. Añadir la variable de entorno JAVA_HOME = \"C:\\Program Files\\Java\\jdk {version} \"\n",
    "3. Descargar e instalar Android Studio: https://developer.android.com/studio\n",
    "4. Añadir la variable de entorno ANDROID_HOME = \"C:\\Users\\\\ {user} \\AppData\\Local\\Android\\Sdk\\\"\n",
    "5. Añadir el directorio \"C:\\Users\\\\ {user} \\AppData\\Local\\Android\\Sdk\\platform-tools\\\" al Path de Windows\n",
    "\n",
    "#### Emulador\n",
    "Para crear un emulador hay que seguir los siguientes pasos:\n",
    "1. Lanzar Android Studio, si pide crear un proyecto se crea un vacío (que no usaremos para nada)\n",
    "2. Dejar que se actualice con las actualizaciones por defecto (puede variar dependiendo de la versión)\n",
    "3. Ir a \"Tools\" > \"AVD Manager\"\n",
    "4. CLick en \"Create Virtual Device\".\n",
    "5. Seleccionar \"Phone\" > \"Nexus 5X\", \"Next\"\n",
    "6. Seleccionar \"Oreo\" (API Level 27, Android 8.1), si no está disponible click en descargar, \"Next\"\n",
    "7. Nombrar y \"Fisinsh\"\n",
    "\n",
    "#### Real\n",
    "Para conectar un dispositivo real hay que seguir los siguientes pasos (No todos los dispositivos son compatibles):\n",
    "1. En el dispositivo: Ir a \"Settings\" > \"About phone\" > \"Software information\" y pulsar \"Build number\" 7 veces\n",
    "2. En el dispositivo: Ir a \"Settings\" > \"Developer options\" y activar \"Stay awake\" y \"USB debugging\"\n",
    "3. Conectar por USB y aceptar permisos\n",
    "\n",
    "### Comprobar la conexión\n",
    "Par comprobar que todo funciona correctamente ejecutar:"
   ]
  },
  {
   "cell_type": "code",
   "execution_count": null,
   "metadata": {},
   "outputs": [],
   "source": [
    "! adb devices"
   ]
  },
  {
   "cell_type": "markdown",
   "metadata": {},
   "source": [
    "___\n",
    "## Levantar un servidor de Appium en local\n",
    "___\n",
    "1. Descargar e instalar Appium-Desktop: https://github.com/appium/appium-desktop/releases/\n",
    "2. Iniciar Appium (tarda)\n",
    "3. Poner Host: 0.0.0.0 y Puerto: 4723, pulsar \"Start Server\""
   ]
  },
  {
   "cell_type": "markdown",
   "metadata": {},
   "source": [
    "___\n",
    "## Crear un script con el cliente de Appium para Python\n",
    "___\n",
    "Se instalan los sdk's de Appium para Python:"
   ]
  },
  {
   "cell_type": "code",
   "execution_count": null,
   "metadata": {},
   "outputs": [],
   "source": [
    "! pip install Appium-Python-Client --trusted-host pypi.python.org"
   ]
  },
  {
   "cell_type": "markdown",
   "metadata": {},
   "source": [
    "___\n",
    "Importamos la librería:"
   ]
  },
  {
   "cell_type": "code",
   "execution_count": null,
   "metadata": {},
   "outputs": [],
   "source": [
    "from appium import webdriver"
   ]
  },
  {
   "cell_type": "code",
   "execution_count": null,
   "metadata": {},
   "outputs": [],
   "source": [
    "import os\n",
    "\n",
    "desired_caps = {}\n",
    "desired_caps['platformName'] = 'Android'\n",
    "desired_caps['deviceName'] = 'Android Emulator'\n",
    "desired_caps['app'] = os.path.join(os.getcwd(), 'example.apk')  # ruta a una apk de ejemplo\n",
    "\n",
    "driver = webdriver.Remote('http://localhost:4723/wd/hub', desired_caps)"
   ]
  },
  {
   "cell_type": "code",
   "execution_count": null,
   "metadata": {},
   "outputs": [],
   "source": [
    "from appium.webdriver.common.mobileby import MobileBy\n",
    "\n",
    "\n",
    "class CommonPage(object):\n",
    "    \n",
    "    def __init__(self, driver):\n",
    "        self.driver = driver  \n",
    "\n",
    "        \n",
    "\n",
    "class InitPage(CommonPage):    \n",
    "    \n",
    "    def btn__add_contact(self):\n",
    "        return driver.find_element(MobileBy.ACCESSIBILITY_ID, \"Add Contact\")\n",
    "    \n",
    "\n",
    "class AddContactPage(CommonPage):\n",
    "    \n",
    "    def tbx__contact_name(self):\n",
    "        return driver.find_element(MobileBy.ID, \"com.example.android.contactmanager:id/contactNameEditText\")\n",
    "    \n",
    "    def tbx__contact_phone(self):\n",
    "        return driver.find_element(MobileBy.ID, \"com.example.android.contactmanager:id/contactPhoneEditText\")"
   ]
  },
  {
   "cell_type": "code",
   "execution_count": null,
   "metadata": {},
   "outputs": [],
   "source": [
    "InitPage(driver).btn__add_contact().click()\n",
    "\n",
    "import time\n",
    "time.sleep(1)\n",
    "\n",
    "page__add_contact = AddContactPage(driver)\n",
    "page__add_contact.tbx__contact_name().send_keys('Alejandro')\n",
    "page__add_contact.tbx__contact_phone().send_keys('987654321')"
   ]
  },
  {
   "cell_type": "code",
   "execution_count": null,
   "metadata": {},
   "outputs": [],
   "source": [
    "driver.quit()"
   ]
  },
  {
   "cell_type": "markdown",
   "metadata": {},
   "source": [
    "___\n",
    "## Obtener los localizadores de objectos manualmente\n",
    "___\n",
    "1. Desde Appium, ir a \"File\" > \"New Session Window...\"\n",
    "2. Rellenar la tabla con los valores:\n",
    "\n",
    "Name | Type | Value\n",
    "-----|------|------\n",
    "platformName | text | Android\n",
    "deviceName | text | Android Emulator\n",
    "app | text | C:\\Users\\mtp1923\\test-lab\\example.apk\n",
    "\n",
    "3. Pulsar en \"Start Session\"\n",
    "\n",
    "Se abrirá una ventana que es similar a pulsar F12 en Chrome"
   ]
  }
 ],
 "metadata": {
  "kernelspec": {
   "display_name": "Python 3",
   "language": "python",
   "name": "python3"
  },
  "language_info": {
   "codemirror_mode": {
    "name": "ipython",
    "version": 3
   },
   "file_extension": ".py",
   "mimetype": "text/x-python",
   "name": "python",
   "nbconvert_exporter": "python",
   "pygments_lexer": "ipython3",
   "version": "3.7.4"
  }
 },
 "nbformat": 4,
 "nbformat_minor": 4
}
