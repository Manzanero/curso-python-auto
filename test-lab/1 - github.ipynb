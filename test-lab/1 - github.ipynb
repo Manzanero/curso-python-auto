{
 "cells": [
  {
   "cell_type": "markdown",
   "metadata": {},
   "source": [
    "# Capítulo 1 - Creación de un proyecto en Github para repositar el código\n",
    "___"
   ]
  },
  {
   "cell_type": "markdown",
   "metadata": {},
   "source": [
    "## Crear el repositorio en Github\n",
    "\n",
    "1. Nos logamos en [Github](https://github.com/)\n",
    "2. Damos a \"Nuevo repositorio\"\n",
    "3. Le damos un nombre, en minúsculas y sin espacios (se suelen sustituir por `-`), por ejemplo: `my-project`\n",
    "4. Damos a crear"
   ]
  },
  {
   "cell_type": "markdown",
   "metadata": {},
   "source": [
    "## Clonar el repositorio\n",
    "\n",
    "Copiamos la url git del reposito, abrimos un terminal en nuestra carpeta `workspaces` y ejecutamos el comando `git clone {url_git}`\n",
    "\n",
    "```shell\n",
    "cd ~/workspaces\n",
    "git clone git@github.com:{user}/my-project.git  # si pide confirmación, poner \"yes\"\n",
    "```\n",
    "\n",
    "Nos advertirá de que hemos clonado un repositorio vacío"
   ]
  },
  {
   "cell_type": "markdown",
   "metadata": {},
   "source": [
    "## Crear un proyecto \"hola mundo\"\n",
    "\n",
    "1. Abrir PyCharm > \"Open Project\" > seleccionar la carpeta clonada: \"~/workspaces/my-project\"\n",
    "2. Navegamos a \"File\" > \"Settings\" > \"Project\" > \"Project Interpreter\", aquí comprobamos si está o no el intérprete correcto de Python:\n",
    "     - en caso de que aparezca `C:/Users/{mtp_user}/Python310/python.exe` ya estaría correctamente\n",
    "     - sino, clicamos en el engranage de la derecha > \"Add\" y buscamos el intérprete en la ruta del punto anterior\n",
    "3. Clicamos en \"File\" > \"New\" > \"Python file\" e introducimos como nombre `hello_world` (los nombres de archivos Python se suelen escribir en minúsculas y `_`)\n",
    "4. Dentro escribimos `print(\"hola mundo\")` (se guarda automáticamente)\n",
    "5. volvemos a la consola y escribimos\n",
    "\n",
    "```shell\n",
    "cd my-project\n",
    "python hello_world.py\n",
    "```\n",
    "\n",
    "lo cual nos escribe \"hola mundo\" \n",
    "\n",
    "Ahora conviene crear unos archivos útiles para cualquier repositorio git:\n",
    "\n",
    "```shell\n",
    "echo \"# my-project\" >> README.md\n",
    "echo \".idea\" >> .gitignore\n",
    "```"
   ]
  },
  {
   "cell_type": "markdown",
   "metadata": {},
   "source": [
    "## Subir los cambios al repositorio\n",
    "Añadimos todos los cambios en el repositorio (el punto indica cambios en la carpeta actual, actualmente la raíz del repositorio) con:\n",
    "\n",
    "```shell\n",
    "git add .\n",
    "```\n",
    "\n",
    "consolidamos los cambios en la rama actual (main) y añadimos un mensaje descriptivo:\n",
    "\n",
    "```shell\n",
    "git commit -m \"creacion hola mundo\"\n",
    "```\n",
    "\n",
    "y subimos los cambios:\n",
    "\n",
    "```shell\n",
    "git push\n",
    "```\n",
    "\n",
    "ya podríamos ver los cambios en https://github.com/{user}/my-project\n"
   ]
  }
 ],
 "metadata": {
  "kernelspec": {
   "display_name": "Python 3",
   "language": "python",
   "name": "python3"
  },
  "language_info": {
   "codemirror_mode": {
    "name": "ipython",
    "version": 3
   },
   "file_extension": ".py",
   "mimetype": "text/x-python",
   "name": "python",
   "nbconvert_exporter": "python",
   "pygments_lexer": "ipython3",
   "version": "3.8.8"
  }
 },
 "nbformat": 4,
 "nbformat_minor": 4
}